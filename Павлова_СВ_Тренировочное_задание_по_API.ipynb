{
  "cells": [
    {
      "cell_type": "markdown",
      "metadata": {
        "id": "view-in-github",
        "colab_type": "text"
      },
      "source": [
        "<a href=\"https://colab.research.google.com/github/saspav/DA-104/blob/main/%D0%9F%D0%B0%D0%B2%D0%BB%D0%BE%D0%B2%D0%B0_%D0%A1%D0%92_%D0%A2%D1%80%D0%B5%D0%BD%D0%B8%D1%80%D0%BE%D0%B2%D0%BE%D1%87%D0%BD%D0%BE%D0%B5_%D0%B7%D0%B0%D0%B4%D0%B0%D0%BD%D0%B8%D0%B5_%D0%BF%D0%BE_API.ipynb\" target=\"_parent\"><img src=\"https://colab.research.google.com/assets/colab-badge.svg\" alt=\"Open In Colab\"/></a>"
      ]
    },
    {
      "cell_type": "markdown",
      "metadata": {
        "id": "zKH9MpmOepks"
      },
      "source": [
        "## **Задание 1. Собираем данные с помощью Requests**"
      ]
    },
    {
      "cell_type": "markdown",
      "metadata": {
        "id": "MgvkdXgsex5B"
      },
      "source": [
        "С помощью методов API ВКонтакте получите список высших учебных заведений и названия их факультетов в городе Томск.\n",
        "Результат должен быть записан в файл JSON в следующем формате:"
      ]
    },
    {
      "cell_type": "code",
      "execution_count": 1,
      "metadata": {
        "colab": {
          "base_uri": "https://localhost:8080/"
        },
        "id": "96636dESPMCT",
        "outputId": "3d11c026-8ee2-43c9-f945-c74741ce3f65"
      },
      "outputs": [
        {
          "output_type": "stream",
          "name": "stdout",
          "text": [
            "Looking in indexes: https://pypi.org/simple, https://us-python.pkg.dev/colab-wheels/public/simple/\n",
            "Collecting vk_api\n",
            "  Downloading vk_api-11.9.9-py3-none-any.whl (48 kB)\n",
            "\u001b[K     |████████████████████████████████| 48 kB 1.6 MB/s \n",
            "\u001b[?25hRequirement already satisfied: requests in /usr/local/lib/python3.7/dist-packages (from vk_api) (2.23.0)\n",
            "Requirement already satisfied: idna<3,>=2.5 in /usr/local/lib/python3.7/dist-packages (from requests->vk_api) (2.10)\n",
            "Requirement already satisfied: chardet<4,>=3.0.2 in /usr/local/lib/python3.7/dist-packages (from requests->vk_api) (3.0.4)\n",
            "Requirement already satisfied: certifi>=2017.4.17 in /usr/local/lib/python3.7/dist-packages (from requests->vk_api) (2022.6.15)\n",
            "Requirement already satisfied: urllib3!=1.25.0,!=1.25.1,<1.26,>=1.21.1 in /usr/local/lib/python3.7/dist-packages (from requests->vk_api) (1.24.3)\n",
            "Installing collected packages: vk-api\n",
            "Successfully installed vk-api-11.9.9\n"
          ]
        }
      ],
      "source": [
        "# {\n",
        "#   \"cities\": [\n",
        "#     {\n",
        "#         \"id\": <ID города>,\n",
        "#         \"name\": <Название города>,\n",
        "#         \"universites\": [\n",
        "#             {\n",
        "#               \"id\": <ID ВУЗа>,\n",
        "#               \"name\": <Название ВУЗа>\n",
        "#               \"faculties\": [<Название факультета>, …]\n",
        "#             },\n",
        "#             ...\n",
        "#         ]\n",
        "#     },\n",
        "#     ...\n",
        "# }\n",
        "!pip install vk_api"
      ]
    },
    {
      "cell_type": "code",
      "execution_count": 2,
      "metadata": {
        "colab": {
          "base_uri": "https://localhost:8080/"
        },
        "id": "jUQjnKLTelrA",
        "outputId": "a1773fa1-d544-4ab0-8f0f-0e3ebda8c46d"
      },
      "outputs": [
        {
          "output_type": "stream",
          "name": "stdout",
          "text": [
            "No faculties was found!\n",
            "No faculties was found!\n",
            "No faculties was found!\n",
            "No faculties was found!\n"
          ]
        }
      ],
      "source": [
        "import requests\n",
        "import json\n",
        "\n",
        "ACCESS_TOKEN = \"98a4c4e1e6f40a38d0f03b179c68e7a4a99d5837e9ea0822524c204b9fccf07c4848e9b6c02d67d95004e\"\n",
        "URL_COUNTRY = \"https://api.vk.com/method/database.getCountries\"\n",
        "URL_CITY = \"https://api.vk.com/method/database.getCities\"\n",
        "URL_VUZ = \"https://api.vk.com/method/database.getUniversities\"\n",
        "URL_FAC = \"https://api.vk.com/method/database.getFaculties\"\n",
        "\n",
        "CONST_PARAMS = {\"access_token\": ACCESS_TOKEN, \"v\": \"5.131\"}\n",
        "\n",
        "\n",
        "def handle_response(resp, item_name):\n",
        "    if resp.get(\"error\"):\n",
        "        print(f\"Get {item_name} error!\")\n",
        "        return\n",
        "\n",
        "    items = resp['response']['items']\n",
        "    if items:\n",
        "        return items\n",
        "    print(f\"No {item_name} was found!\")\n",
        "\n",
        "\n",
        "def get_country(code='RU'):\n",
        "    \"\"\"\n",
        "    Получение страны по заданному коду\n",
        "    \"\"\"\n",
        "    params = {**CONST_PARAMS, \"code\": code, \"count\": 1}\n",
        "\n",
        "    country = handle_response(requests.get(URL_COUNTRY, params=params).json(),\n",
        "                              \"country\")\n",
        "    return country[0] if country else None\n",
        "\n",
        "\n",
        "def get_cities(country_id, q='', count=1):\n",
        "    \"\"\"\n",
        "    Получение города по заданной стране\n",
        "    \"\"\"\n",
        "    params = {**CONST_PARAMS, \"country_id\": country_id, \"count\": count, 'q': q}\n",
        "\n",
        "    cities = handle_response(requests.get(URL_CITY, params=params).json(),\n",
        "                             \"cities\")\n",
        "    return cities if cities else None\n",
        "\n",
        "\n",
        "def get_universities(city_id):\n",
        "    \"\"\"\n",
        "    Получение названий высших учебных заведений в заданном городе\n",
        "    \"\"\"\n",
        "    params = {**CONST_PARAMS, \"city_id\": city_id}\n",
        "\n",
        "    univers = handle_response(requests.get(URL_VUZ, params=params).json(),\n",
        "                              \"universities\")\n",
        "    return [(unv['id'], unv['title'].strip()) for unv in univers] if univers else []\n",
        "\n",
        "\n",
        "def get_faculties(university_id):\n",
        "    \"\"\"\n",
        "    Получение названий факультетов в заданном ВУЗе\n",
        "    \"\"\"\n",
        "    params = {**CONST_PARAMS, \"university_id\": university_id}\n",
        "    faculties = handle_response(requests.get(URL_FAC, params=params).json(),\n",
        "                                \"faculties\")\n",
        "    return sorted(fac['title'] for fac in faculties) if faculties else []\n",
        "\n",
        "\n",
        "def main_procedure():\n",
        "    # Получаем список городов страны\n",
        "    city = get_cities(get_country().get('id'), 'Томск')[0]\n",
        "    if not city:\n",
        "        return\n",
        "\n",
        "    # Получаем список высших учебных заведений в городе\n",
        "    univers = get_universities(city['id'])\n",
        "    universites = []\n",
        "    for univer_id, univer_name in univers:\n",
        "        universites.append({\"id\": univer_id,\n",
        "                            \"name\": univer_name,\n",
        "                            \"faculties\": get_faculties(univer_id)})\n",
        "    city_data = [{\"id\": city['id'],\n",
        "                  \"name\": city['title'],\n",
        "                  \"universites\": universites\n",
        "                  }]\n",
        "    results = dict(cities=city_data)\n",
        "\n",
        "    # Записываем все в JSON файл\n",
        "    with open(\"universites.json\", \"w\") as file:\n",
        "        json.dump(results, file, ensure_ascii=False)\n",
        "\n",
        "\n",
        "main_procedure()"
      ]
    },
    {
      "cell_type": "markdown",
      "metadata": {
        "id": "XslJSFkAe5-5"
      },
      "source": [
        "# **Задание 2. Библиотека VK API**"
      ]
    },
    {
      "cell_type": "markdown",
      "metadata": {
        "id": "Fv1R9qMftlt9"
      },
      "source": [
        "Напишите код, который получает список названия школ города Кемерово с помощью библиотеки vk_api и записывает результаты в файл JSON."
      ]
    },
    {
      "cell_type": "code",
      "execution_count": 3,
      "metadata": {
        "id": "AK2dch3xtnpM"
      },
      "outputs": [],
      "source": [
        "import vk_api\n",
        "import json\n",
        "\n",
        "ACCESS_TOKEN = \"98a4c4e1e6f40a38d0f03b179c68e7a4a99d5837e9ea0822524c204b9fccf07c4848e9b6c02d67d95004e\"\n",
        "\n",
        "\n",
        "# Инициализация сессии с помощью токена доступа\n",
        "vk_session = vk_api.VkApi(token=ACCESS_TOKEN)\n",
        "vk = vk_session.get_api()\n",
        "\n",
        "# Получение ID города Кемерово\n",
        "city = vk.database.getCities(country_id=1, q='Кемерово', count=1)\n",
        "city_id = city['items'][0]['id'] if city['count'] else None\n",
        "city_title = city['items'][0]['title'] if city['count'] else None\n",
        "# Получение школ города Кемерово\n",
        "schools = vk.database.getSchools(city_id=city_id)\n",
        "# Формирование списка школ\n",
        "schools_title = [s['title'] for s in schools['items']]\n",
        "# Формирование словаря для записи в файл\n",
        "city_data = [{\"id\": city_id,\n",
        "              \"name\": city_title,\n",
        "              \"schools\": sorted(schools_title)\n",
        "              }]\n",
        "results = dict(city=city_data)\n",
        "# Записываем все в JSON файл\n",
        "with open(\"schools.json\", \"w\") as file:\n",
        "    json.dump(results, file, ensure_ascii=False)"
      ]
    },
    {
      "cell_type": "markdown",
      "metadata": {
        "id": "N1UzGf1CtVfa"
      },
      "source": [
        "# **Задание 3. Запись данных в CSV формат**"
      ]
    },
    {
      "cell_type": "markdown",
      "metadata": {
        "id": "Rg-gNSTzfA7R"
      },
      "source": [
        "С помощью методов API «ВКонтакте» получите 1000 подписчиков группы «Лентач», отсортирванных по дате регистрации.\n",
        "\n",
        "Вам необходимо собрать следующие данные в CSV файл: пол, название город, семейное положение (ФИО партнера не указывать)."
      ]
    },
    {
      "cell_type": "code",
      "execution_count": 4,
      "metadata": {
        "id": "eSslPXrGfDRb"
      },
      "outputs": [],
      "source": [
        "import vk_api\n",
        "import csv\n",
        "\n",
        "ACCESS_TOKEN = '98a4c4e1e6f40a38d0f03b179c68e7a4a99d5837e9ea0822524c204b9fccf07c4848e9b6c02d67d95004e'\n",
        "\n",
        "SEX = {1: 'женский', 2: 'мужской', 0: 'пол не указан'}\n",
        "RELATION = {1: 'не женат/не замужем', 2: 'есть друг/есть подруга',\n",
        "            3: 'помолвлен/помолвлена', 4: 'женат/замужем', 5: 'всё сложно',\n",
        "            6: 'в активном поиске', 7: 'влюблён/влюблена',\n",
        "            8: 'в гражданском браке', 0: 'не указано'}\n",
        "\n",
        "# Инициализация сессии с помощью токена доступа\n",
        "vk_session = vk_api.VkApi(token=ACCESS_TOKEN)\n",
        "vk = vk_session.get_api()\n",
        "\n",
        "# Получение ID группы\n",
        "group_search = vk.groups.search(q='Лентач', count=1)\n",
        "id_lentach = group_search.get('items', [])[0].get('id')\n",
        "# Получение списка подписчиков группы\n",
        "users = []\n",
        "counts = 200\n",
        "for offset in range(0, 1001, counts):\n",
        "    group_members = vk.groups.getMembers(group_id=id_lentach,\n",
        "                                         count=counts,\n",
        "                                         offset=offset,\n",
        "                                         sort='id_asc',\n",
        "                                         fields='sex, city, relation')\n",
        "\n",
        "    # Формирование списка с нужными полями\n",
        "    temp = [{'id_user': user['id'],\n",
        "             'пол': SEX[int(user.get('sex', 0))],\n",
        "             'название город': user.get('city', {'title': None}).get('title'),\n",
        "             'семейное положение': RELATION[int(user.get('relation', 0))]}\n",
        "            for user in group_members.get('items', [None])]\n",
        "    users.extend(temp)\n",
        "\n",
        "# Нам нужно ровно 1000 подписчиков\n",
        "users = users[:1000]\n",
        "\n",
        "# Запись данных в CSV файл\n",
        "with open(\"group_members.csv\", \"w\", encoding='utf-8', newline='') as file:\n",
        "    writer = csv.DictWriter(file, fieldnames=users[0].keys())\n",
        "    writer.writeheader()\n",
        "    for user in users:\n",
        "        writer.writerow(user)"
      ]
    },
    {
      "cell_type": "markdown",
      "metadata": {
        "id": "D5tq92u3PMCc"
      },
      "source": [
        "##### В CSV файл можно записать гораздо проще:"
      ]
    },
    {
      "cell_type": "code",
      "execution_count": 5,
      "metadata": {
        "id": "JivpMWV9PMCd"
      },
      "outputs": [],
      "source": [
        "import pandas as pd\n",
        "\n",
        "# Создаем ДФ\n",
        "df = pd.DataFrame([user.values() for user in users], columns=users[0].keys())\n",
        "# Сохраняем ДФ в файл\n",
        "df.to_csv('df_group_members.csv', index=False)"
      ]
    }
  ],
  "metadata": {
    "colab": {
      "collapsed_sections": [],
      "name": "Павлова_СВ_Тренировочное_задание_по_API.ipynb",
      "provenance": [],
      "include_colab_link": true
    },
    "kernelspec": {
      "display_name": "Python 3",
      "language": "python",
      "name": "python3"
    },
    "language_info": {
      "codemirror_mode": {
        "name": "ipython",
        "version": 3
      },
      "file_extension": ".py",
      "mimetype": "text/x-python",
      "name": "python",
      "nbconvert_exporter": "python",
      "pygments_lexer": "ipython3",
      "version": "3.8.5"
    }
  },
  "nbformat": 4,
  "nbformat_minor": 0
}