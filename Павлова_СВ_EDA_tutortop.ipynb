{
 "cells": [
  {
   "cell_type": "markdown",
   "metadata": {
    "colab_type": "text",
    "id": "view-in-github"
   },
   "source": [
    "<a href=\"https://colab.research.google.com/github/saspav/DA-104/blob/main/%D0%9F%D0%B0%D0%B2%D0%BB%D0%BE%D0%B2%D0%B0_%D0%A1%D0%92_EDA_tutortop.ipynb\" target=\"_parent\"><img src=\"https://colab.research.google.com/assets/colab-badge.svg\" alt=\"Open In Colab\"/></a>"
   ]
  },
  {
   "cell_type": "markdown",
   "metadata": {
    "id": "3bUCYKBuPI_p"
   },
   "source": [
    "## EDA - разведочный анализ данных с tutortop.ru на данных от 26.09.2022"
   ]
  },
  {
   "cell_type": "code",
   "execution_count": 1,
   "metadata": {
    "id": "DF8HJdf0OmRY"
   },
   "outputs": [],
   "source": [
    "import os\n",
    "from time import time\n",
    "from datetime import datetime\n",
    "import re\n",
    "import numpy as np\n",
    "import pandas as pd\n",
    "import matplotlib.pyplot as plt\n",
    "import seaborn as sns\n",
    "import scipy.stats as stats\n",
    "\n",
    "\n",
    "pd.options.display.max_columns = None\n",
    "\n",
    "params = {\n",
    "          'axes.titlesize': 15,   # Размер шрифта главной подписи\n",
    "          'axes.labelsize': 14,   # Размер шрифта подписей осей\n",
    "          'xtick.labelsize': 12,  # Размер шрифта подписей тикетов оси X\n",
    "          'ytick.labelsize': 12,  # Размер шрифта подписей тикетов оси Y\n",
    "\n",
    "          }\n",
    "\n",
    "plt.rcParams.update(params)\n",
    "\n",
    "__import__('warnings').filterwarnings(\"ignore\")\n",
    "\n",
    "\n",
    "from IPython.display import Markdown, display\n",
    "\n",
    "def printmd(text, ngrid=4):\n",
    "    display(Markdown('#'*ngrid + \" \" + text))"
   ]
  },
  {
   "cell_type": "code",
   "execution_count": 2,
   "metadata": {
    "id": "qyLPOAjVOmRb"
   },
   "outputs": [],
   "source": [
    "df = pd.DataFrame()\n",
    "\n",
    "path_file = r'D:\\проект_стажировкa'\n",
    "name_file = 'parsing_tutortop.csv'\n",
    "file_csv = os.path.join(path_file, name_file)\n",
    "if not os.access(file_csv, os.F_OK):\n",
    "    path_file = ''\n",
    "    file_csv = 'https://raw.githubusercontent.com/saspav/DA-104/main/dataset/parsing_tutortop.zip'\n",
    "df = pd.read_csv(file_csv, sep=';')"
   ]
  },
  {
   "cell_type": "code",
   "execution_count": 3,
   "metadata": {
    "colab": {
     "base_uri": "https://localhost:8080/"
    },
    "id": "Rq8_gJvJOmRc",
    "outputId": "dfbeca18-08be-43c2-a103-aa5813917393"
   },
   "outputs": [
    {
     "name": "stdout",
     "output_type": "stream",
     "text": [
      "<class 'pandas.core.frame.DataFrame'>\n",
      "RangeIndex: 9268 entries, 0 to 9267\n",
      "Data columns (total 15 columns):\n",
      " #   Column          Non-Null Count  Dtype  \n",
      "---  ------          --------------  -----  \n",
      " 0   category        9268 non-null   object \n",
      " 1   partition       9268 non-null   object \n",
      " 2   course_title    9268 non-null   object \n",
      " 3   course          9268 non-null   int64  \n",
      " 4   date            8737 non-null   float64\n",
      " 5   dlitelnost      9268 non-null   object \n",
      " 6   pd_price        8737 non-null   float64\n",
      " 7   popularity      0 non-null      float64\n",
      " 8   price           8737 non-null   float64\n",
      " 9   rassrochka      8737 non-null   float64\n",
      " 10  rating          9268 non-null   float64\n",
      " 11  school          9268 non-null   object \n",
      " 12  school_reviews  9268 non-null   int64  \n",
      " 13  discount        8983 non-null   float64\n",
      " 14  course_url      9268 non-null   object \n",
      "dtypes: float64(7), int64(2), object(6)\n",
      "memory usage: 1.1+ MB\n"
     ]
    }
   ],
   "source": [
    "df.info()"
   ]
  },
  {
   "cell_type": "code",
   "execution_count": 4,
   "metadata": {
    "id": "-t-5Mvo9OmRd"
   },
   "outputs": [
    {
     "data": {
      "text/markdown": [
       "#### В датасете 9268 объектов."
      ],
      "text/plain": [
       "<IPython.core.display.Markdown object>"
      ]
     },
     "metadata": {},
     "output_type": "display_data"
    }
   ],
   "source": [
    "printmd(f'В датасете {len(df)} объектов.')"
   ]
  },
  {
   "cell_type": "code",
   "execution_count": 5,
   "metadata": {
    "colab": {
     "base_uri": "https://localhost:8080/"
    },
    "id": "DbvWpmQ7OmRf",
    "outputId": "768c2955-84b9-4907-e349-3adcb1a16369"
   },
   "outputs": [
    {
     "data": {
      "text/plain": [
       "category             0\n",
       "partition            0\n",
       "course_title         0\n",
       "course               0\n",
       "date               531\n",
       "dlitelnost           0\n",
       "pd_price           531\n",
       "popularity        9268\n",
       "price              531\n",
       "rassrochka         531\n",
       "rating               0\n",
       "school               0\n",
       "school_reviews       0\n",
       "discount           285\n",
       "course_url           0\n",
       "dtype: int64"
      ]
     },
     "execution_count": 5,
     "metadata": {},
     "output_type": "execute_result"
    }
   ],
   "source": [
    "# посмотрим сколько пропусков\n",
    "df.isna().sum()"
   ]
  },
  {
   "cell_type": "code",
   "execution_count": 6,
   "metadata": {
    "colab": {
     "base_uri": "https://localhost:8080/",
     "height": 426
    },
    "id": "slZ7dWDGOmRg",
    "outputId": "23935169-183d-4a8b-bd8f-3c3f211f2123"
   },
   "outputs": [
    {
     "data": {
      "text/html": [
       "<div>\n",
       "<style scoped>\n",
       "    .dataframe tbody tr th:only-of-type {\n",
       "        vertical-align: middle;\n",
       "    }\n",
       "\n",
       "    .dataframe tbody tr th {\n",
       "        vertical-align: top;\n",
       "    }\n",
       "\n",
       "    .dataframe thead th {\n",
       "        text-align: right;\n",
       "    }\n",
       "</style>\n",
       "<table border=\"1\" class=\"dataframe\">\n",
       "  <thead>\n",
       "    <tr style=\"text-align: right;\">\n",
       "      <th></th>\n",
       "      <th>category</th>\n",
       "      <th>partition</th>\n",
       "      <th>course_title</th>\n",
       "      <th>course</th>\n",
       "      <th>date</th>\n",
       "      <th>dlitelnost</th>\n",
       "      <th>pd_price</th>\n",
       "      <th>popularity</th>\n",
       "      <th>price</th>\n",
       "      <th>rassrochka</th>\n",
       "      <th>rating</th>\n",
       "      <th>school</th>\n",
       "      <th>school_reviews</th>\n",
       "      <th>discount</th>\n",
       "      <th>course_url</th>\n",
       "    </tr>\n",
       "  </thead>\n",
       "  <tbody>\n",
       "    <tr>\n",
       "      <th>0</th>\n",
       "      <td>Программирование</td>\n",
       "      <td>Python-разработка</td>\n",
       "      <td>Профессия Разработчик на Python</td>\n",
       "      <td>1528</td>\n",
       "      <td>1.659560e+09</td>\n",
       "      <td>10</td>\n",
       "      <td>137956.0</td>\n",
       "      <td>NaN</td>\n",
       "      <td>137956.0</td>\n",
       "      <td>4955.0</td>\n",
       "      <td>4.8</td>\n",
       "      <td>Skypro</td>\n",
       "      <td>58</td>\n",
       "      <td>82774.0</td>\n",
       "      <td>/goto/?number=1528&amp;term=37</td>\n",
       "    </tr>\n",
       "    <tr>\n",
       "      <th>1</th>\n",
       "      <td>Программирование</td>\n",
       "      <td>Python-разработка</td>\n",
       "      <td>Онлайн-курс Python-разработчик</td>\n",
       "      <td>2591</td>\n",
       "      <td>1.658956e+09</td>\n",
       "      <td>7</td>\n",
       "      <td>124800.0</td>\n",
       "      <td>NaN</td>\n",
       "      <td>124800.0</td>\n",
       "      <td>6242.0</td>\n",
       "      <td>4.7</td>\n",
       "      <td>Бруноям</td>\n",
       "      <td>49</td>\n",
       "      <td>74900.0</td>\n",
       "      <td>/goto/?number=2591&amp;term=37</td>\n",
       "    </tr>\n",
       "    <tr>\n",
       "      <th>2</th>\n",
       "      <td>Программирование</td>\n",
       "      <td>Python-разработка</td>\n",
       "      <td>Курс «Python-разработчик»</td>\n",
       "      <td>432</td>\n",
       "      <td>1.659992e+09</td>\n",
       "      <td>12</td>\n",
       "      <td>300000.0</td>\n",
       "      <td>NaN</td>\n",
       "      <td>126000.0</td>\n",
       "      <td>15000.0</td>\n",
       "      <td>4.7</td>\n",
       "      <td>Яндекс Практикум</td>\n",
       "      <td>185</td>\n",
       "      <td>0.0</td>\n",
       "      <td>/goto/?number=432&amp;term=37</td>\n",
       "    </tr>\n",
       "    <tr>\n",
       "      <th>3</th>\n",
       "      <td>Программирование</td>\n",
       "      <td>Python-разработка</td>\n",
       "      <td>Fullstack-разработчик на Python</td>\n",
       "      <td>1188</td>\n",
       "      <td>1.659042e+09</td>\n",
       "      <td>18.5</td>\n",
       "      <td>159000.0</td>\n",
       "      <td>NaN</td>\n",
       "      <td>159000.0</td>\n",
       "      <td>6625.0</td>\n",
       "      <td>4.8</td>\n",
       "      <td>Нетология</td>\n",
       "      <td>72</td>\n",
       "      <td>0.0</td>\n",
       "      <td>/goto/?number=1188&amp;term=37</td>\n",
       "    </tr>\n",
       "    <tr>\n",
       "      <th>4</th>\n",
       "      <td>Программирование</td>\n",
       "      <td>Python-разработка</td>\n",
       "      <td>Профессия Python-разработчик</td>\n",
       "      <td>232</td>\n",
       "      <td>1.659128e+09</td>\n",
       "      <td>12</td>\n",
       "      <td>255000.0</td>\n",
       "      <td>NaN</td>\n",
       "      <td>182807.0</td>\n",
       "      <td>5897.0</td>\n",
       "      <td>4.6</td>\n",
       "      <td>Skillbox</td>\n",
       "      <td>138</td>\n",
       "      <td>0.0</td>\n",
       "      <td>/goto/?number=232&amp;term=37</td>\n",
       "    </tr>\n",
       "  </tbody>\n",
       "</table>\n",
       "</div>"
      ],
      "text/plain": [
       "           category          partition                     course_title  \\\n",
       "0  Программирование  Python-разработка  Профессия Разработчик на Python   \n",
       "1  Программирование  Python-разработка   Онлайн-курс Python-разработчик   \n",
       "2  Программирование  Python-разработка        Курс «Python-разработчик»   \n",
       "3  Программирование  Python-разработка  Fullstack-разработчик на Python   \n",
       "4  Программирование  Python-разработка     Профессия Python-разработчик   \n",
       "\n",
       "   course          date dlitelnost  pd_price  popularity     price  \\\n",
       "0    1528  1.659560e+09         10  137956.0         NaN  137956.0   \n",
       "1    2591  1.658956e+09          7  124800.0         NaN  124800.0   \n",
       "2     432  1.659992e+09         12  300000.0         NaN  126000.0   \n",
       "3    1188  1.659042e+09       18.5  159000.0         NaN  159000.0   \n",
       "4     232  1.659128e+09         12  255000.0         NaN  182807.0   \n",
       "\n",
       "   rassrochka  rating            school  school_reviews  discount  \\\n",
       "0      4955.0     4.8            Skypro              58   82774.0   \n",
       "1      6242.0     4.7           Бруноям              49   74900.0   \n",
       "2     15000.0     4.7  Яндекс Практикум             185       0.0   \n",
       "3      6625.0     4.8         Нетология              72       0.0   \n",
       "4      5897.0     4.6          Skillbox             138       0.0   \n",
       "\n",
       "                   course_url  \n",
       "0  /goto/?number=1528&term=37  \n",
       "1  /goto/?number=2591&term=37  \n",
       "2   /goto/?number=432&term=37  \n",
       "3  /goto/?number=1188&term=37  \n",
       "4   /goto/?number=232&term=37  "
      ]
     },
     "execution_count": 6,
     "metadata": {},
     "output_type": "execute_result"
    }
   ],
   "source": [
    "df.head()"
   ]
  },
  {
   "cell_type": "markdown",
   "metadata": {
    "id": "YLsQpW6NOmRg"
   },
   "source": [
    "Очистка и преобразование данных"
   ]
  },
  {
   "cell_type": "code",
   "execution_count": 7,
   "metadata": {
    "id": "zSZDWCltOmRh"
   },
   "outputs": [],
   "source": [
    "# почистим данные\n",
    "df.drop(['popularity', 'pd_price'], axis=1, inplace=True)\n",
    "# заполним пропуски нулями\n",
    "df.fillna(0, inplace=True)\n",
    "# преобразуем в целое число\n",
    "for name_col in ('price', 'rassrochka'):\n",
    "    df[name_col] = df[name_col].astype(int)\n",
    "# приведение отсутствии рассрочки к одному виду\n",
    "df.loc[df['rassrochka'] == 1, 'rassrochka'] = 0\n",
    "# преобразование даты из unixtime формата в читаемую дату\n",
    "df['date'] = df['date'].apply(lambda x: datetime.fromtimestamp(x).date())\n",
    "# заполнение пропусков в датах на 01.09.2021\n",
    "date_first = datetime(2021, 9, 1).date()\n",
    "df.loc[df['date'] < date_first, 'date'] = date_first\n",
    "# преобразование длительности курса в число\n",
    "df['dlitelnost'] = df['dlitelnost'].str.replace(',', '.')\n",
    "df['dlitelnost'] = pd.to_numeric(df['dlitelnost'])\n",
    "# формирование полного url\n",
    "df['course_url'] = df['course_url'].apply(lambda x: f'https://tutortop.ru{x}')\n",
    "# переименование колонок\n",
    "df.rename(columns={'course': 'course_id', 'date': 'date_begin'}, inplace=True)"
   ]
  },
  {
   "cell_type": "code",
   "execution_count": 8,
   "metadata": {
    "colab": {
     "base_uri": "https://localhost:8080/"
    },
    "id": "Wr0OlcKCOmRi",
    "outputId": "c1aa4526-eb7f-405f-a0a0-ee8d94c6f47e"
   },
   "outputs": [
    {
     "name": "stdout",
     "output_type": "stream",
     "text": [
      "<class 'pandas.core.frame.DataFrame'>\n",
      "RangeIndex: 9268 entries, 0 to 9267\n",
      "Data columns (total 13 columns):\n",
      " #   Column          Non-Null Count  Dtype  \n",
      "---  ------          --------------  -----  \n",
      " 0   category        9268 non-null   object \n",
      " 1   partition       9268 non-null   object \n",
      " 2   course_title    9268 non-null   object \n",
      " 3   course_id       9268 non-null   int64  \n",
      " 4   date_begin      9268 non-null   object \n",
      " 5   dlitelnost      9268 non-null   float64\n",
      " 6   price           9268 non-null   int32  \n",
      " 7   rassrochka      9268 non-null   int32  \n",
      " 8   rating          9268 non-null   float64\n",
      " 9   school          9268 non-null   object \n",
      " 10  school_reviews  9268 non-null   int64  \n",
      " 11  discount        9268 non-null   float64\n",
      " 12  course_url      9268 non-null   object \n",
      "dtypes: float64(3), int32(2), int64(2), object(6)\n",
      "memory usage: 869.0+ KB\n"
     ]
    }
   ],
   "source": [
    "df.info()"
   ]
  },
  {
   "cell_type": "code",
   "execution_count": 9,
   "metadata": {
    "colab": {
     "base_uri": "https://localhost:8080/",
     "height": 372
    },
    "id": "WX1e9mf0OmRj",
    "outputId": "7d745fd0-220c-49e1-9991-4cb76366727c"
   },
   "outputs": [
    {
     "data": {
      "text/html": [
       "<div>\n",
       "<style scoped>\n",
       "    .dataframe tbody tr th:only-of-type {\n",
       "        vertical-align: middle;\n",
       "    }\n",
       "\n",
       "    .dataframe tbody tr th {\n",
       "        vertical-align: top;\n",
       "    }\n",
       "\n",
       "    .dataframe thead th {\n",
       "        text-align: right;\n",
       "    }\n",
       "</style>\n",
       "<table border=\"1\" class=\"dataframe\">\n",
       "  <thead>\n",
       "    <tr style=\"text-align: right;\">\n",
       "      <th></th>\n",
       "      <th>category</th>\n",
       "      <th>partition</th>\n",
       "      <th>course_title</th>\n",
       "      <th>course_id</th>\n",
       "      <th>date_begin</th>\n",
       "      <th>dlitelnost</th>\n",
       "      <th>price</th>\n",
       "      <th>rassrochka</th>\n",
       "      <th>rating</th>\n",
       "      <th>school</th>\n",
       "      <th>school_reviews</th>\n",
       "      <th>discount</th>\n",
       "      <th>course_url</th>\n",
       "    </tr>\n",
       "  </thead>\n",
       "  <tbody>\n",
       "    <tr>\n",
       "      <th>0</th>\n",
       "      <td>Программирование</td>\n",
       "      <td>Python-разработка</td>\n",
       "      <td>Профессия Разработчик на Python</td>\n",
       "      <td>1528</td>\n",
       "      <td>2022-08-04</td>\n",
       "      <td>10.0</td>\n",
       "      <td>137956</td>\n",
       "      <td>4955</td>\n",
       "      <td>4.8</td>\n",
       "      <td>Skypro</td>\n",
       "      <td>58</td>\n",
       "      <td>82774.0</td>\n",
       "      <td>https://tutortop.ru/goto/?number=1528&amp;term=37</td>\n",
       "    </tr>\n",
       "    <tr>\n",
       "      <th>1</th>\n",
       "      <td>Программирование</td>\n",
       "      <td>Python-разработка</td>\n",
       "      <td>Онлайн-курс Python-разработчик</td>\n",
       "      <td>2591</td>\n",
       "      <td>2022-07-28</td>\n",
       "      <td>7.0</td>\n",
       "      <td>124800</td>\n",
       "      <td>6242</td>\n",
       "      <td>4.7</td>\n",
       "      <td>Бруноям</td>\n",
       "      <td>49</td>\n",
       "      <td>74900.0</td>\n",
       "      <td>https://tutortop.ru/goto/?number=2591&amp;term=37</td>\n",
       "    </tr>\n",
       "    <tr>\n",
       "      <th>2</th>\n",
       "      <td>Программирование</td>\n",
       "      <td>Python-разработка</td>\n",
       "      <td>Курс «Python-разработчик»</td>\n",
       "      <td>432</td>\n",
       "      <td>2022-08-09</td>\n",
       "      <td>12.0</td>\n",
       "      <td>126000</td>\n",
       "      <td>15000</td>\n",
       "      <td>4.7</td>\n",
       "      <td>Яндекс Практикум</td>\n",
       "      <td>185</td>\n",
       "      <td>0.0</td>\n",
       "      <td>https://tutortop.ru/goto/?number=432&amp;term=37</td>\n",
       "    </tr>\n",
       "    <tr>\n",
       "      <th>3</th>\n",
       "      <td>Программирование</td>\n",
       "      <td>Python-разработка</td>\n",
       "      <td>Fullstack-разработчик на Python</td>\n",
       "      <td>1188</td>\n",
       "      <td>2022-07-29</td>\n",
       "      <td>18.5</td>\n",
       "      <td>159000</td>\n",
       "      <td>6625</td>\n",
       "      <td>4.8</td>\n",
       "      <td>Нетология</td>\n",
       "      <td>72</td>\n",
       "      <td>0.0</td>\n",
       "      <td>https://tutortop.ru/goto/?number=1188&amp;term=37</td>\n",
       "    </tr>\n",
       "    <tr>\n",
       "      <th>4</th>\n",
       "      <td>Программирование</td>\n",
       "      <td>Python-разработка</td>\n",
       "      <td>Профессия Python-разработчик</td>\n",
       "      <td>232</td>\n",
       "      <td>2022-07-30</td>\n",
       "      <td>12.0</td>\n",
       "      <td>182807</td>\n",
       "      <td>5897</td>\n",
       "      <td>4.6</td>\n",
       "      <td>Skillbox</td>\n",
       "      <td>138</td>\n",
       "      <td>0.0</td>\n",
       "      <td>https://tutortop.ru/goto/?number=232&amp;term=37</td>\n",
       "    </tr>\n",
       "  </tbody>\n",
       "</table>\n",
       "</div>"
      ],
      "text/plain": [
       "           category          partition                     course_title  \\\n",
       "0  Программирование  Python-разработка  Профессия Разработчик на Python   \n",
       "1  Программирование  Python-разработка   Онлайн-курс Python-разработчик   \n",
       "2  Программирование  Python-разработка        Курс «Python-разработчик»   \n",
       "3  Программирование  Python-разработка  Fullstack-разработчик на Python   \n",
       "4  Программирование  Python-разработка     Профессия Python-разработчик   \n",
       "\n",
       "   course_id  date_begin  dlitelnost   price  rassrochka  rating  \\\n",
       "0       1528  2022-08-04        10.0  137956        4955     4.8   \n",
       "1       2591  2022-07-28         7.0  124800        6242     4.7   \n",
       "2        432  2022-08-09        12.0  126000       15000     4.7   \n",
       "3       1188  2022-07-29        18.5  159000        6625     4.8   \n",
       "4        232  2022-07-30        12.0  182807        5897     4.6   \n",
       "\n",
       "             school  school_reviews  discount  \\\n",
       "0            Skypro              58   82774.0   \n",
       "1           Бруноям              49   74900.0   \n",
       "2  Яндекс Практикум             185       0.0   \n",
       "3         Нетология              72       0.0   \n",
       "4          Skillbox             138       0.0   \n",
       "\n",
       "                                      course_url  \n",
       "0  https://tutortop.ru/goto/?number=1528&term=37  \n",
       "1  https://tutortop.ru/goto/?number=2591&term=37  \n",
       "2   https://tutortop.ru/goto/?number=432&term=37  \n",
       "3  https://tutortop.ru/goto/?number=1188&term=37  \n",
       "4   https://tutortop.ru/goto/?number=232&term=37  "
      ]
     },
     "execution_count": 9,
     "metadata": {},
     "output_type": "execute_result"
    }
   ],
   "source": [
    "data = df.copy(deep=True)\n",
    "data.head()"
   ]
  },
  {
   "cell_type": "markdown",
   "metadata": {
    "id": "1c_H1fuwOmRk"
   },
   "source": [
    "### Проведем неграфический анализ данных:  посмотрим на частоту встречаемости значений ТОП-20"
   ]
  },
  {
   "cell_type": "code",
   "execution_count": 10,
   "metadata": {
    "id": "W-9IU2dlOmRk"
   },
   "outputs": [],
   "source": [
    "# отфильтруем категорию курсов, которые не интересны заказчику и бесплатные курсы\n",
    "out_categiry = ('Детям', 'Образ жизни', 'Создание контента')\n",
    "df = data[(~data['category'].isin(out_categiry)) & (data['price'] > 0)].drop('course_url', axis=1)"
   ]
  },
  {
   "cell_type": "code",
   "execution_count": 11,
   "metadata": {
    "colab": {
     "base_uri": "https://localhost:8080/",
     "height": 434
    },
    "id": "Ah3B18wHOmRl",
    "outputId": "624c11d9-66f5-40b5-d3be-03cb17d4e307"
   },
   "outputs": [
    {
     "data": {
      "text/html": [
       "<div>\n",
       "<style scoped>\n",
       "    .dataframe tbody tr th:only-of-type {\n",
       "        vertical-align: middle;\n",
       "    }\n",
       "\n",
       "    .dataframe tbody tr th {\n",
       "        vertical-align: top;\n",
       "    }\n",
       "\n",
       "    .dataframe thead th {\n",
       "        text-align: right;\n",
       "    }\n",
       "</style>\n",
       "<table border=\"1\" class=\"dataframe\">\n",
       "  <thead>\n",
       "    <tr style=\"text-align: right;\">\n",
       "      <th></th>\n",
       "      <th>category</th>\n",
       "      <th>partition</th>\n",
       "      <th>course_title</th>\n",
       "      <th>course_id</th>\n",
       "      <th>date_begin</th>\n",
       "      <th>dlitelnost</th>\n",
       "      <th>price</th>\n",
       "      <th>rassrochka</th>\n",
       "      <th>rating</th>\n",
       "      <th>school</th>\n",
       "      <th>school_reviews</th>\n",
       "      <th>discount</th>\n",
       "    </tr>\n",
       "  </thead>\n",
       "  <tbody>\n",
       "    <tr>\n",
       "      <th>5544</th>\n",
       "      <td>Дизайн</td>\n",
       "      <td>AutoCAD</td>\n",
       "      <td>Уроки автокад по созданию чертежей (AutoCAD 2D)</td>\n",
       "      <td>5116</td>\n",
       "      <td>2022-07-28</td>\n",
       "      <td>1.0</td>\n",
       "      <td>10000</td>\n",
       "      <td>0</td>\n",
       "      <td>4.3</td>\n",
       "      <td>Teach&amp;amp;Study</td>\n",
       "      <td>11</td>\n",
       "      <td>0.0</td>\n",
       "    </tr>\n",
       "    <tr>\n",
       "      <th>4081</th>\n",
       "      <td>Маркетинг</td>\n",
       "      <td>Бренд-менеджмент</td>\n",
       "      <td>Личный бренд спортсмена</td>\n",
       "      <td>1735</td>\n",
       "      <td>2022-07-30</td>\n",
       "      <td>0.0</td>\n",
       "      <td>42539</td>\n",
       "      <td>3545</td>\n",
       "      <td>4.6</td>\n",
       "      <td>Skillbox</td>\n",
       "      <td>138</td>\n",
       "      <td>0.0</td>\n",
       "    </tr>\n",
       "    <tr>\n",
       "      <th>3141</th>\n",
       "      <td>Управление</td>\n",
       "      <td>Финансы для руководителей</td>\n",
       "      <td>Розничная торговля: бизнес-процессы, персонал,...</td>\n",
       "      <td>4773</td>\n",
       "      <td>2022-09-07</td>\n",
       "      <td>0.0</td>\n",
       "      <td>39900</td>\n",
       "      <td>1663</td>\n",
       "      <td>4.3</td>\n",
       "      <td>Moscow Business School</td>\n",
       "      <td>15</td>\n",
       "      <td>0.0</td>\n",
       "    </tr>\n",
       "    <tr>\n",
       "      <th>9057</th>\n",
       "      <td>Управление</td>\n",
       "      <td>Охрана труда</td>\n",
       "      <td>Пожарная безопасность</td>\n",
       "      <td>5020</td>\n",
       "      <td>2022-08-31</td>\n",
       "      <td>3.0</td>\n",
       "      <td>6800</td>\n",
       "      <td>1700</td>\n",
       "      <td>4.3</td>\n",
       "      <td>Инфоурок</td>\n",
       "      <td>13</td>\n",
       "      <td>0.0</td>\n",
       "    </tr>\n",
       "    <tr>\n",
       "      <th>6508</th>\n",
       "      <td>Иностранные языки</td>\n",
       "      <td>Немецкий язык</td>\n",
       "      <td>Онлайн-репетитор по немецкому языку</td>\n",
       "      <td>4037</td>\n",
       "      <td>2022-07-28</td>\n",
       "      <td>0.0</td>\n",
       "      <td>319</td>\n",
       "      <td>0</td>\n",
       "      <td>4.3</td>\n",
       "      <td>TutGood</td>\n",
       "      <td>4</td>\n",
       "      <td>0.0</td>\n",
       "    </tr>\n",
       "    <tr>\n",
       "      <th>11</th>\n",
       "      <td>Программирование</td>\n",
       "      <td>Python-разработка</td>\n",
       "      <td>Алгоритмы и структуры данных на Python</td>\n",
       "      <td>4598</td>\n",
       "      <td>2022-07-29</td>\n",
       "      <td>6.0</td>\n",
       "      <td>4700</td>\n",
       "      <td>0</td>\n",
       "      <td>4.3</td>\n",
       "      <td>Shultais Education</td>\n",
       "      <td>92</td>\n",
       "      <td>0.0</td>\n",
       "    </tr>\n",
       "    <tr>\n",
       "      <th>957</th>\n",
       "      <td>Дизайн</td>\n",
       "      <td>Графический дизайн</td>\n",
       "      <td>Графический дизайн</td>\n",
       "      <td>5496</td>\n",
       "      <td>2022-08-19</td>\n",
       "      <td>9.0</td>\n",
       "      <td>54000</td>\n",
       "      <td>4500</td>\n",
       "      <td>4.3</td>\n",
       "      <td>Московский институт технологий и управления</td>\n",
       "      <td>7</td>\n",
       "      <td>0.0</td>\n",
       "    </tr>\n",
       "  </tbody>\n",
       "</table>\n",
       "</div>"
      ],
      "text/plain": [
       "               category                  partition  \\\n",
       "5544             Дизайн                    AutoCAD   \n",
       "4081          Маркетинг           Бренд-менеджмент   \n",
       "3141         Управление  Финансы для руководителей   \n",
       "9057         Управление               Охрана труда   \n",
       "6508  Иностранные языки              Немецкий язык   \n",
       "11     Программирование          Python-разработка   \n",
       "957              Дизайн         Графический дизайн   \n",
       "\n",
       "                                           course_title  course_id  \\\n",
       "5544    Уроки автокад по созданию чертежей (AutoCAD 2D)       5116   \n",
       "4081                            Личный бренд спортсмена       1735   \n",
       "3141  Розничная торговля: бизнес-процессы, персонал,...       4773   \n",
       "9057                              Пожарная безопасность       5020   \n",
       "6508                Онлайн-репетитор по немецкому языку       4037   \n",
       "11               Алгоритмы и структуры данных на Python       4598   \n",
       "957                                  Графический дизайн       5496   \n",
       "\n",
       "      date_begin  dlitelnost  price  rassrochka  rating  \\\n",
       "5544  2022-07-28         1.0  10000           0     4.3   \n",
       "4081  2022-07-30         0.0  42539        3545     4.6   \n",
       "3141  2022-09-07         0.0  39900        1663     4.3   \n",
       "9057  2022-08-31         3.0   6800        1700     4.3   \n",
       "6508  2022-07-28         0.0    319           0     4.3   \n",
       "11    2022-07-29         6.0   4700           0     4.3   \n",
       "957   2022-08-19         9.0  54000        4500     4.3   \n",
       "\n",
       "                                           school  school_reviews  discount  \n",
       "5544                              Teach&amp;Study              11       0.0  \n",
       "4081                                     Skillbox             138       0.0  \n",
       "3141                       Moscow Business School              15       0.0  \n",
       "9057                                     Инфоурок              13       0.0  \n",
       "6508                                      TutGood               4       0.0  \n",
       "11                             Shultais Education              92       0.0  \n",
       "957   Московский институт технологий и управления               7       0.0  "
      ]
     },
     "execution_count": 11,
     "metadata": {},
     "output_type": "execute_result"
    }
   ],
   "source": [
    "df.sample(7)"
   ]
  },
  {
   "cell_type": "code",
   "execution_count": 12,
   "metadata": {
    "colab": {
     "base_uri": "https://localhost:8080/"
    },
    "id": "f1i7W3dbOmRl",
    "outputId": "62a69a58-ee50-4b6c-a36b-0affde097b54",
    "scrolled": false
   },
   "outputs": [
    {
     "name": "stdout",
     "output_type": "stream",
     "text": [
      "Признак: \"category\", количество уникальных значений 7\n",
      "Управление           1344\n",
      "Программирование      965\n",
      "Дизайн                843\n",
      "Иностранные языки     524\n",
      "Аналитика             481\n",
      "Маркетинг             401\n",
      "Бизнес и финансы       31\n",
      "Name: category, dtype: int64\n",
      "\n",
      "Признак: \"partition\", количество уникальных значений 174\n",
      "Управление бизнесом                      193\n",
      "Все курсы по английскому языку           148\n",
      "Охрана труда                             122\n",
      "MBA                                      116\n",
      "Юридические аспекты бизнеса              105\n",
      "Бухгалтерия                               95\n",
      "Управление образовательными проектами     83\n",
      "Финансы для руководителей                 82\n",
      "Графический дизайн                        74\n",
      "Web-дизайн                                72\n",
      "3D-моделирование                          70\n",
      "Дизайн интерьеров                         68\n",
      "HR и управление персоналом                67\n",
      "Системное администрирование               64\n",
      "Web-разработка                            64\n",
      "Отрисовка иллюстраций                     59\n",
      "Python-разработка                         59\n",
      "JavaScript-разработка                     58\n",
      "Data Science                              57\n",
      "Личностный рост                           57\n",
      "Name: partition, dtype: int64\n",
      "\n",
      "Признак: \"school\", количество уникальных значений 148\n",
      "Skillbox                                             652\n",
      "Нетология                                            281\n",
      "Специалист.ру                                        275\n",
      "GeekBrains                                           241\n",
      "Московская Бизнес Академия                           189\n",
      "Московский институт профессионального образования    177\n",
      "Skyford                                              176\n",
      "Контур.Школа                                         136\n",
      "Яндекс Практикум                                     127\n",
      "Инфоурок                                             122\n",
      "SkillFactory                                         108\n",
      "Московский институт технологий и управления           96\n",
      "XYZ School                                            80\n",
      "Eduson Academy                                        71\n",
      "Компьютерная Академия TOP                             68\n",
      "Irs Academy                                           67\n",
      "Слёрм                                                 67\n",
      "Pentaschool                                           64\n",
      "Skyeng                                                62\n",
      "LoftSchool                                            56\n",
      "Name: school, dtype: int64\n",
      "\n"
     ]
    }
   ],
   "source": [
    "show_columns = ['category', 'partition', 'school']\n",
    "for name_col in show_columns:\n",
    "    print(f'Признак: \"{name_col}\", количество уникальных значений {df[name_col].nunique()}')\n",
    "    print(df[name_col].value_counts()[:20])\n",
    "    print()"
   ]
  },
  {
   "cell_type": "code",
   "execution_count": 13,
   "metadata": {
    "id": "0GQaQTw9OmRm"
   },
   "outputs": [],
   "source": [
    "# сократим длинные наименования \"школ\"\n",
    "def rename_school(text):\n",
    "    return (text\n",
    "            .replace('Московский институт профессионального образования',\n",
    "                     'Моск.институт проф.обр')\n",
    "            .replace('Московский институт технологий и управления',\n",
    "                     'Моск.инст.техн. и упр.')\n",
    "            .replace('Московская Бизнес Академия', \n",
    "                     'Моск. Бизнес Академия')\n",
    "            .replace('Компьютерная Академия TOP', \n",
    "                     'Компьют. Академия TOP'))\n",
    "\n",
    "def ths(srs):\n",
    "    return int(round(srs/1000))\n",
    "\n",
    "df['school'] = df['school'].map(rename_school)"
   ]
  },
  {
   "cell_type": "code",
   "execution_count": 14,
   "metadata": {
    "colab": {
     "base_uri": "https://localhost:8080/",
     "height": 300
    },
    "id": "w5dO0D-_OmRm",
    "outputId": "5f4bd1ac-efda-4cf2-f665-76f5a69f23f9"
   },
   "outputs": [
    {
     "data": {
      "text/html": [
       "<div>\n",
       "<style scoped>\n",
       "    .dataframe tbody tr th:only-of-type {\n",
       "        vertical-align: middle;\n",
       "    }\n",
       "\n",
       "    .dataframe tbody tr th {\n",
       "        vertical-align: top;\n",
       "    }\n",
       "\n",
       "    .dataframe thead th {\n",
       "        text-align: right;\n",
       "    }\n",
       "</style>\n",
       "<table border=\"1\" class=\"dataframe\">\n",
       "  <thead>\n",
       "    <tr style=\"text-align: right;\">\n",
       "      <th></th>\n",
       "      <th>price</th>\n",
       "    </tr>\n",
       "  </thead>\n",
       "  <tbody>\n",
       "    <tr>\n",
       "      <th>count</th>\n",
       "      <td>4589.0</td>\n",
       "    </tr>\n",
       "    <tr>\n",
       "      <th>mean</th>\n",
       "      <td>67887.0</td>\n",
       "    </tr>\n",
       "    <tr>\n",
       "      <th>std</th>\n",
       "      <td>87603.0</td>\n",
       "    </tr>\n",
       "    <tr>\n",
       "      <th>min</th>\n",
       "      <td>1.0</td>\n",
       "    </tr>\n",
       "    <tr>\n",
       "      <th>25%</th>\n",
       "      <td>15000.0</td>\n",
       "    </tr>\n",
       "    <tr>\n",
       "      <th>50%</th>\n",
       "      <td>42539.0</td>\n",
       "    </tr>\n",
       "    <tr>\n",
       "      <th>75%</th>\n",
       "      <td>98000.0</td>\n",
       "    </tr>\n",
       "    <tr>\n",
       "      <th>max</th>\n",
       "      <td>1500000.0</td>\n",
       "    </tr>\n",
       "  </tbody>\n",
       "</table>\n",
       "</div>"
      ],
      "text/plain": [
       "           price\n",
       "count     4589.0\n",
       "mean     67887.0\n",
       "std      87603.0\n",
       "min          1.0\n",
       "25%      15000.0\n",
       "50%      42539.0\n",
       "75%      98000.0\n",
       "max    1500000.0"
      ]
     },
     "execution_count": 14,
     "metadata": {},
     "output_type": "execute_result"
    }
   ],
   "source": [
    "pd.DataFrame(df.price.describe().round())"
   ]
  },
  {
   "cell_type": "code",
   "execution_count": 15,
   "metadata": {},
   "outputs": [
    {
     "data": {
      "text/markdown": [
       "#### Медианная стоимость курса = 43 тыс."
      ],
      "text/plain": [
       "<IPython.core.display.Markdown object>"
      ]
     },
     "metadata": {},
     "output_type": "display_data"
    },
    {
     "data": {
      "text/markdown": [
       "#### Средняя стоимость курса = 68 тыс. - это за счет наличия выбросов в большую сторону."
      ],
      "text/plain": [
       "<IPython.core.display.Markdown object>"
      ]
     },
     "metadata": {},
     "output_type": "display_data"
    }
   ],
   "source": [
    "printmd(f'Медианная стоимость курса = {ths(df.price.median())} тыс.')\n",
    "printmd(f'Средняя стоимость курса = {ths(df.price.mean())} тыс. - это за счет наличия выбросов в большую сторону.')"
   ]
  },
  {
   "cell_type": "markdown",
   "metadata": {
    "id": "Z2eVKuLdOmRm"
   },
   "source": [
    "#### Посмотрим на курсы стоимостью более 300 тыс"
   ]
  },
  {
   "cell_type": "code",
   "execution_count": 16,
   "metadata": {
    "colab": {
     "base_uri": "https://localhost:8080/",
     "height": 1000
    },
    "id": "XJRW2zxJOmRn",
    "outputId": "0c5f4b0d-2251-47f5-81a9-d778ea567194",
    "scrolled": false
   },
   "outputs": [
    {
     "data": {
      "text/html": [
       "<div>\n",
       "<style scoped>\n",
       "    .dataframe tbody tr th:only-of-type {\n",
       "        vertical-align: middle;\n",
       "    }\n",
       "\n",
       "    .dataframe tbody tr th {\n",
       "        vertical-align: top;\n",
       "    }\n",
       "\n",
       "    .dataframe thead th {\n",
       "        text-align: right;\n",
       "    }\n",
       "</style>\n",
       "<table border=\"1\" class=\"dataframe\">\n",
       "  <thead>\n",
       "    <tr style=\"text-align: right;\">\n",
       "      <th></th>\n",
       "      <th>category</th>\n",
       "      <th>partition</th>\n",
       "      <th>course_title</th>\n",
       "      <th>course_id</th>\n",
       "      <th>date_begin</th>\n",
       "      <th>dlitelnost</th>\n",
       "      <th>price</th>\n",
       "      <th>rassrochka</th>\n",
       "      <th>rating</th>\n",
       "      <th>school</th>\n",
       "      <th>school_reviews</th>\n",
       "      <th>discount</th>\n",
       "    </tr>\n",
       "  </thead>\n",
       "  <tbody>\n",
       "    <tr>\n",
       "      <th>207</th>\n",
       "      <td>Программирование</td>\n",
       "      <td>JavaScript-разработка</td>\n",
       "      <td>Очный интенсив \"Full-stack разработчик. JavaSc...</td>\n",
       "      <td>5330</td>\n",
       "      <td>2022-08-08</td>\n",
       "      <td>3.0</td>\n",
       "      <td>305000</td>\n",
       "      <td>108000</td>\n",
       "      <td>4.3</td>\n",
       "      <td>Elbrus Coding Bootcamp</td>\n",
       "      <td>13</td>\n",
       "      <td>0.0</td>\n",
       "    </tr>\n",
       "    <tr>\n",
       "      <th>3686</th>\n",
       "      <td>Программирование</td>\n",
       "      <td>Верстка на HTML/CSS</td>\n",
       "      <td>Очный интенсив \"Full-stack разработчик. JavaSc...</td>\n",
       "      <td>5330</td>\n",
       "      <td>2022-08-08</td>\n",
       "      <td>3.0</td>\n",
       "      <td>305000</td>\n",
       "      <td>108000</td>\n",
       "      <td>4.3</td>\n",
       "      <td>Elbrus Coding Bootcamp</td>\n",
       "      <td>13</td>\n",
       "      <td>0.0</td>\n",
       "    </tr>\n",
       "    <tr>\n",
       "      <th>4999</th>\n",
       "      <td>Управление</td>\n",
       "      <td>MBA</td>\n",
       "      <td>Global Executive MBA: Стратегический менеджмент,</td>\n",
       "      <td>3813</td>\n",
       "      <td>2022-07-31</td>\n",
       "      <td>0.0</td>\n",
       "      <td>305000</td>\n",
       "      <td>25416</td>\n",
       "      <td>4.3</td>\n",
       "      <td>EMAS</td>\n",
       "      <td>17</td>\n",
       "      <td>0.0</td>\n",
       "    </tr>\n",
       "    <tr>\n",
       "      <th>4995</th>\n",
       "      <td>Управление</td>\n",
       "      <td>MBA</td>\n",
       "      <td>Executive MBA ǀ 1 год</td>\n",
       "      <td>3819</td>\n",
       "      <td>2022-07-31</td>\n",
       "      <td>0.0</td>\n",
       "      <td>305000</td>\n",
       "      <td>25416</td>\n",
       "      <td>4.3</td>\n",
       "      <td>EMAS</td>\n",
       "      <td>17</td>\n",
       "      <td>0.0</td>\n",
       "    </tr>\n",
       "    <tr>\n",
       "      <th>4991</th>\n",
       "      <td>Управление</td>\n",
       "      <td>MBA</td>\n",
       "      <td>Executive MBA: Стратегический менеджмент, дипл...</td>\n",
       "      <td>3820</td>\n",
       "      <td>2022-07-31</td>\n",
       "      <td>0.0</td>\n",
       "      <td>305000</td>\n",
       "      <td>25416</td>\n",
       "      <td>4.3</td>\n",
       "      <td>EMAS</td>\n",
       "      <td>17</td>\n",
       "      <td>0.0</td>\n",
       "    </tr>\n",
       "    <tr>\n",
       "      <th>3923</th>\n",
       "      <td>Программирование</td>\n",
       "      <td>Фреймворк ReactJS</td>\n",
       "      <td>Очный интенсив \"Full-stack разработчик. JavaSc...</td>\n",
       "      <td>5330</td>\n",
       "      <td>2022-08-08</td>\n",
       "      <td>3.0</td>\n",
       "      <td>305000</td>\n",
       "      <td>108000</td>\n",
       "      <td>4.3</td>\n",
       "      <td>Elbrus Coding Bootcamp</td>\n",
       "      <td>13</td>\n",
       "      <td>0.0</td>\n",
       "    </tr>\n",
       "    <tr>\n",
       "      <th>3951</th>\n",
       "      <td>Программирование</td>\n",
       "      <td>Работа с GIT</td>\n",
       "      <td>Очный интенсив \"Full-stack разработчик. JavaSc...</td>\n",
       "      <td>5330</td>\n",
       "      <td>2022-08-08</td>\n",
       "      <td>3.0</td>\n",
       "      <td>305000</td>\n",
       "      <td>108000</td>\n",
       "      <td>4.3</td>\n",
       "      <td>Elbrus Coding Bootcamp</td>\n",
       "      <td>13</td>\n",
       "      <td>0.0</td>\n",
       "    </tr>\n",
       "    <tr>\n",
       "      <th>596</th>\n",
       "      <td>Управление</td>\n",
       "      <td>Управление бизнесом</td>\n",
       "      <td>Global Executive MBA: Стратегический менеджмент,</td>\n",
       "      <td>3813</td>\n",
       "      <td>2022-07-31</td>\n",
       "      <td>0.0</td>\n",
       "      <td>305000</td>\n",
       "      <td>25416</td>\n",
       "      <td>4.3</td>\n",
       "      <td>EMAS</td>\n",
       "      <td>17</td>\n",
       "      <td>0.0</td>\n",
       "    </tr>\n",
       "    <tr>\n",
       "      <th>591</th>\n",
       "      <td>Управление</td>\n",
       "      <td>Управление бизнесом</td>\n",
       "      <td>Executive MBA ǀ 1 год</td>\n",
       "      <td>3819</td>\n",
       "      <td>2022-07-31</td>\n",
       "      <td>0.0</td>\n",
       "      <td>305000</td>\n",
       "      <td>25416</td>\n",
       "      <td>4.3</td>\n",
       "      <td>EMAS</td>\n",
       "      <td>17</td>\n",
       "      <td>0.0</td>\n",
       "    </tr>\n",
       "    <tr>\n",
       "      <th>586</th>\n",
       "      <td>Управление</td>\n",
       "      <td>Управление бизнесом</td>\n",
       "      <td>Executive MBA: Стратегический менеджмент, дипл...</td>\n",
       "      <td>3820</td>\n",
       "      <td>2022-07-31</td>\n",
       "      <td>0.0</td>\n",
       "      <td>305000</td>\n",
       "      <td>25416</td>\n",
       "      <td>4.3</td>\n",
       "      <td>EMAS</td>\n",
       "      <td>17</td>\n",
       "      <td>0.0</td>\n",
       "    </tr>\n",
       "    <tr>\n",
       "      <th>77</th>\n",
       "      <td>Программирование</td>\n",
       "      <td>Web-разработка</td>\n",
       "      <td>Колледж \"Академия TOP\". Разработка программног...</td>\n",
       "      <td>4865</td>\n",
       "      <td>2022-07-29</td>\n",
       "      <td>30.0</td>\n",
       "      <td>315000</td>\n",
       "      <td>31500</td>\n",
       "      <td>4.5</td>\n",
       "      <td>Компьют. Академия TOP</td>\n",
       "      <td>44</td>\n",
       "      <td>0.0</td>\n",
       "    </tr>\n",
       "    <tr>\n",
       "      <th>3058</th>\n",
       "      <td>Управление</td>\n",
       "      <td>Запуск стартапов</td>\n",
       "      <td>Executive MBA: Стратегический менеджмент, Стар...</td>\n",
       "      <td>3815</td>\n",
       "      <td>2022-07-31</td>\n",
       "      <td>0.0</td>\n",
       "      <td>325000</td>\n",
       "      <td>27083</td>\n",
       "      <td>4.3</td>\n",
       "      <td>EMAS</td>\n",
       "      <td>17</td>\n",
       "      <td>0.0</td>\n",
       "    </tr>\n",
       "    <tr>\n",
       "      <th>581</th>\n",
       "      <td>Управление</td>\n",
       "      <td>Управление бизнесом</td>\n",
       "      <td>Executive MBA: Стратегический менеджмент, Бизн...</td>\n",
       "      <td>3814</td>\n",
       "      <td>2022-07-31</td>\n",
       "      <td>0.0</td>\n",
       "      <td>325000</td>\n",
       "      <td>27083</td>\n",
       "      <td>4.3</td>\n",
       "      <td>EMAS</td>\n",
       "      <td>17</td>\n",
       "      <td>0.0</td>\n",
       "    </tr>\n",
       "    <tr>\n",
       "      <th>576</th>\n",
       "      <td>Управление</td>\n",
       "      <td>Управление бизнесом</td>\n",
       "      <td>Executive MBA: Стратегический менеджмент, Стар...</td>\n",
       "      <td>3815</td>\n",
       "      <td>2022-07-31</td>\n",
       "      <td>0.0</td>\n",
       "      <td>325000</td>\n",
       "      <td>27083</td>\n",
       "      <td>4.3</td>\n",
       "      <td>EMAS</td>\n",
       "      <td>17</td>\n",
       "      <td>0.0</td>\n",
       "    </tr>\n",
       "    <tr>\n",
       "      <th>564</th>\n",
       "      <td>Управление</td>\n",
       "      <td>Управление бизнесом</td>\n",
       "      <td>Executive MBA: Стратегический менеджмент, Финансы</td>\n",
       "      <td>3817</td>\n",
       "      <td>2022-07-31</td>\n",
       "      <td>24.0</td>\n",
       "      <td>325000</td>\n",
       "      <td>27083</td>\n",
       "      <td>4.3</td>\n",
       "      <td>EMAS</td>\n",
       "      <td>17</td>\n",
       "      <td>0.0</td>\n",
       "    </tr>\n",
       "    <tr>\n",
       "      <th>570</th>\n",
       "      <td>Управление</td>\n",
       "      <td>Управление бизнесом</td>\n",
       "      <td>Executive MBA: Стратегический менеджмент, Марк...</td>\n",
       "      <td>3816</td>\n",
       "      <td>2022-07-31</td>\n",
       "      <td>0.0</td>\n",
       "      <td>325000</td>\n",
       "      <td>27083</td>\n",
       "      <td>4.3</td>\n",
       "      <td>EMAS</td>\n",
       "      <td>17</td>\n",
       "      <td>0.0</td>\n",
       "    </tr>\n",
       "    <tr>\n",
       "      <th>3114</th>\n",
       "      <td>Управление</td>\n",
       "      <td>Финансы для руководителей</td>\n",
       "      <td>Executive MBA: Стратегический менеджмент, Финансы</td>\n",
       "      <td>3817</td>\n",
       "      <td>2022-07-31</td>\n",
       "      <td>24.0</td>\n",
       "      <td>325000</td>\n",
       "      <td>27083</td>\n",
       "      <td>4.3</td>\n",
       "      <td>EMAS</td>\n",
       "      <td>17</td>\n",
       "      <td>0.0</td>\n",
       "    </tr>\n",
       "    <tr>\n",
       "      <th>4958</th>\n",
       "      <td>Управление</td>\n",
       "      <td>MBA</td>\n",
       "      <td>Executive MBA: Стратегический менеджмент, Мене...</td>\n",
       "      <td>3818</td>\n",
       "      <td>2022-07-31</td>\n",
       "      <td>0.0</td>\n",
       "      <td>325000</td>\n",
       "      <td>27083</td>\n",
       "      <td>4.3</td>\n",
       "      <td>EMAS</td>\n",
       "      <td>17</td>\n",
       "      <td>0.0</td>\n",
       "    </tr>\n",
       "    <tr>\n",
       "      <th>4967</th>\n",
       "      <td>Управление</td>\n",
       "      <td>MBA</td>\n",
       "      <td>Executive MBA: Стратегический менеджмент, Финансы</td>\n",
       "      <td>3817</td>\n",
       "      <td>2022-07-31</td>\n",
       "      <td>24.0</td>\n",
       "      <td>325000</td>\n",
       "      <td>27083</td>\n",
       "      <td>4.3</td>\n",
       "      <td>EMAS</td>\n",
       "      <td>17</td>\n",
       "      <td>0.0</td>\n",
       "    </tr>\n",
       "    <tr>\n",
       "      <th>4974</th>\n",
       "      <td>Управление</td>\n",
       "      <td>MBA</td>\n",
       "      <td>Executive MBA: Стратегический менеджмент, Марк...</td>\n",
       "      <td>3816</td>\n",
       "      <td>2022-07-31</td>\n",
       "      <td>0.0</td>\n",
       "      <td>325000</td>\n",
       "      <td>27083</td>\n",
       "      <td>4.3</td>\n",
       "      <td>EMAS</td>\n",
       "      <td>17</td>\n",
       "      <td>0.0</td>\n",
       "    </tr>\n",
       "    <tr>\n",
       "      <th>4981</th>\n",
       "      <td>Управление</td>\n",
       "      <td>MBA</td>\n",
       "      <td>Executive MBA: Стратегический менеджмент, Стар...</td>\n",
       "      <td>3815</td>\n",
       "      <td>2022-07-31</td>\n",
       "      <td>0.0</td>\n",
       "      <td>325000</td>\n",
       "      <td>27083</td>\n",
       "      <td>4.3</td>\n",
       "      <td>EMAS</td>\n",
       "      <td>17</td>\n",
       "      <td>0.0</td>\n",
       "    </tr>\n",
       "    <tr>\n",
       "      <th>558</th>\n",
       "      <td>Управление</td>\n",
       "      <td>Управление бизнесом</td>\n",
       "      <td>Executive MBA: Стратегический менеджмент, Мене...</td>\n",
       "      <td>3818</td>\n",
       "      <td>2022-07-31</td>\n",
       "      <td>0.0</td>\n",
       "      <td>325000</td>\n",
       "      <td>27083</td>\n",
       "      <td>4.3</td>\n",
       "      <td>EMAS</td>\n",
       "      <td>17</td>\n",
       "      <td>0.0</td>\n",
       "    </tr>\n",
       "    <tr>\n",
       "      <th>4987</th>\n",
       "      <td>Управление</td>\n",
       "      <td>MBA</td>\n",
       "      <td>Executive MBA: Стратегический менеджмент, Бизн...</td>\n",
       "      <td>3814</td>\n",
       "      <td>2022-07-31</td>\n",
       "      <td>0.0</td>\n",
       "      <td>325000</td>\n",
       "      <td>27083</td>\n",
       "      <td>4.3</td>\n",
       "      <td>EMAS</td>\n",
       "      <td>17</td>\n",
       "      <td>0.0</td>\n",
       "    </tr>\n",
       "    <tr>\n",
       "      <th>403</th>\n",
       "      <td>Управление</td>\n",
       "      <td>Product-менеджмент</td>\n",
       "      <td>Акселератор продуктовых IT-команд</td>\n",
       "      <td>874</td>\n",
       "      <td>2022-07-30</td>\n",
       "      <td>0.0</td>\n",
       "      <td>350000</td>\n",
       "      <td>29167</td>\n",
       "      <td>4.6</td>\n",
       "      <td>Skillbox</td>\n",
       "      <td>138</td>\n",
       "      <td>0.0</td>\n",
       "    </tr>\n",
       "    <tr>\n",
       "      <th>3046</th>\n",
       "      <td>Управление</td>\n",
       "      <td>Запуск стартапов</td>\n",
       "      <td>Акселератор продуктовых IT-команд</td>\n",
       "      <td>874</td>\n",
       "      <td>2022-07-30</td>\n",
       "      <td>0.0</td>\n",
       "      <td>350000</td>\n",
       "      <td>29167</td>\n",
       "      <td>4.6</td>\n",
       "      <td>Skillbox</td>\n",
       "      <td>138</td>\n",
       "      <td>0.0</td>\n",
       "    </tr>\n",
       "    <tr>\n",
       "      <th>2976</th>\n",
       "      <td>Дизайн</td>\n",
       "      <td>Создание и монтаж видео</td>\n",
       "      <td>Режиссура рекламы</td>\n",
       "      <td>4017</td>\n",
       "      <td>2022-09-01</td>\n",
       "      <td>0.0</td>\n",
       "      <td>390000</td>\n",
       "      <td>32500</td>\n",
       "      <td>4.3</td>\n",
       "      <td>Среда обучения</td>\n",
       "      <td>37</td>\n",
       "      <td>0.0</td>\n",
       "    </tr>\n",
       "    <tr>\n",
       "      <th>3462</th>\n",
       "      <td>Программирование</td>\n",
       "      <td>Frontend-разработка</td>\n",
       "      <td>Frontend</td>\n",
       "      <td>5277</td>\n",
       "      <td>2022-08-25</td>\n",
       "      <td>9.0</td>\n",
       "      <td>408000</td>\n",
       "      <td>0</td>\n",
       "      <td>4.8</td>\n",
       "      <td>Kata Academy by Java Mentor</td>\n",
       "      <td>30</td>\n",
       "      <td>0.0</td>\n",
       "    </tr>\n",
       "    <tr>\n",
       "      <th>3379</th>\n",
       "      <td>Программирование</td>\n",
       "      <td>Java-разработка</td>\n",
       "      <td>Online-курс Java разработки</td>\n",
       "      <td>4792</td>\n",
       "      <td>2022-08-10</td>\n",
       "      <td>8.0</td>\n",
       "      <td>408000</td>\n",
       "      <td>0</td>\n",
       "      <td>4.8</td>\n",
       "      <td>Kata Academy by Java Mentor</td>\n",
       "      <td>30</td>\n",
       "      <td>0.0</td>\n",
       "    </tr>\n",
       "    <tr>\n",
       "      <th>3936</th>\n",
       "      <td>Программирование</td>\n",
       "      <td>Фреймворк Spring</td>\n",
       "      <td>Online-курс Java разработки</td>\n",
       "      <td>4792</td>\n",
       "      <td>2022-08-10</td>\n",
       "      <td>8.0</td>\n",
       "      <td>408000</td>\n",
       "      <td>0</td>\n",
       "      <td>4.8</td>\n",
       "      <td>Kata Academy by Java Mentor</td>\n",
       "      <td>30</td>\n",
       "      <td>0.0</td>\n",
       "    </tr>\n",
       "    <tr>\n",
       "      <th>540</th>\n",
       "      <td>Управление</td>\n",
       "      <td>Управление бизнесом</td>\n",
       "      <td>DBA: Стратегический менеджмент, дипломы России...</td>\n",
       "      <td>3827</td>\n",
       "      <td>2022-07-31</td>\n",
       "      <td>24.0</td>\n",
       "      <td>445000</td>\n",
       "      <td>37083</td>\n",
       "      <td>4.3</td>\n",
       "      <td>EMAS</td>\n",
       "      <td>17</td>\n",
       "      <td>0.0</td>\n",
       "    </tr>\n",
       "    <tr>\n",
       "      <th>550</th>\n",
       "      <td>Управление</td>\n",
       "      <td>Управление бизнесом</td>\n",
       "      <td>DBA: Стратегический менеджмент</td>\n",
       "      <td>3821</td>\n",
       "      <td>2022-07-31</td>\n",
       "      <td>24.0</td>\n",
       "      <td>445000</td>\n",
       "      <td>37083</td>\n",
       "      <td>4.3</td>\n",
       "      <td>EMAS</td>\n",
       "      <td>17</td>\n",
       "      <td>0.0</td>\n",
       "    </tr>\n",
       "    <tr>\n",
       "      <th>5113</th>\n",
       "      <td>Дизайн</td>\n",
       "      <td>Дизайн интерьеров</td>\n",
       "      <td>Профессия дизайнер интерьера. VIP</td>\n",
       "      <td>5516</td>\n",
       "      <td>2022-08-11</td>\n",
       "      <td>8.0</td>\n",
       "      <td>450000</td>\n",
       "      <td>0</td>\n",
       "      <td>4.3</td>\n",
       "      <td>U.Design</td>\n",
       "      <td>30</td>\n",
       "      <td>0.0</td>\n",
       "    </tr>\n",
       "    <tr>\n",
       "      <th>4701</th>\n",
       "      <td>Управление</td>\n",
       "      <td>Продюсирование</td>\n",
       "      <td>Продюсирование</td>\n",
       "      <td>4019</td>\n",
       "      <td>2022-11-28</td>\n",
       "      <td>23.0</td>\n",
       "      <td>455000</td>\n",
       "      <td>18958</td>\n",
       "      <td>4.3</td>\n",
       "      <td>Среда обучения</td>\n",
       "      <td>37</td>\n",
       "      <td>0.0</td>\n",
       "    </tr>\n",
       "    <tr>\n",
       "      <th>3048</th>\n",
       "      <td>Управление</td>\n",
       "      <td>Запуск стартапов</td>\n",
       "      <td>DBA: Стратегический менеджмент, Стартап-менедж...</td>\n",
       "      <td>3823</td>\n",
       "      <td>2022-07-31</td>\n",
       "      <td>24.0</td>\n",
       "      <td>475000</td>\n",
       "      <td>39583</td>\n",
       "      <td>4.3</td>\n",
       "      <td>EMAS</td>\n",
       "      <td>17</td>\n",
       "      <td>0.0</td>\n",
       "    </tr>\n",
       "    <tr>\n",
       "      <th>530</th>\n",
       "      <td>Управление</td>\n",
       "      <td>Управление бизнесом</td>\n",
       "      <td>DBA: Стратегический менеджмент, Бизнес в цифро...</td>\n",
       "      <td>3822</td>\n",
       "      <td>2022-07-31</td>\n",
       "      <td>24.0</td>\n",
       "      <td>475000</td>\n",
       "      <td>39583</td>\n",
       "      <td>4.3</td>\n",
       "      <td>EMAS</td>\n",
       "      <td>17</td>\n",
       "      <td>0.0</td>\n",
       "    </tr>\n",
       "    <tr>\n",
       "      <th>3097</th>\n",
       "      <td>Управление</td>\n",
       "      <td>Финансы для руководителей</td>\n",
       "      <td>DBA: Стратегический менеджмент, Финансы</td>\n",
       "      <td>3825</td>\n",
       "      <td>2022-07-31</td>\n",
       "      <td>24.0</td>\n",
       "      <td>475000</td>\n",
       "      <td>39583</td>\n",
       "      <td>4.3</td>\n",
       "      <td>EMAS</td>\n",
       "      <td>17</td>\n",
       "      <td>0.0</td>\n",
       "    </tr>\n",
       "    <tr>\n",
       "      <th>458</th>\n",
       "      <td>Управление</td>\n",
       "      <td>Управление бизнесом</td>\n",
       "      <td>DBA: Стратегический менеджмент, Менеджмент в м...</td>\n",
       "      <td>3826</td>\n",
       "      <td>2022-07-31</td>\n",
       "      <td>24.0</td>\n",
       "      <td>475000</td>\n",
       "      <td>39583</td>\n",
       "      <td>4.3</td>\n",
       "      <td>EMAS</td>\n",
       "      <td>17</td>\n",
       "      <td>0.0</td>\n",
       "    </tr>\n",
       "    <tr>\n",
       "      <th>484</th>\n",
       "      <td>Управление</td>\n",
       "      <td>Управление бизнесом</td>\n",
       "      <td>DBA: Стратегический менеджмент, Финансы</td>\n",
       "      <td>3825</td>\n",
       "      <td>2022-07-31</td>\n",
       "      <td>24.0</td>\n",
       "      <td>475000</td>\n",
       "      <td>39583</td>\n",
       "      <td>4.3</td>\n",
       "      <td>EMAS</td>\n",
       "      <td>17</td>\n",
       "      <td>0.0</td>\n",
       "    </tr>\n",
       "    <tr>\n",
       "      <th>505</th>\n",
       "      <td>Управление</td>\n",
       "      <td>Управление бизнесом</td>\n",
       "      <td>DBA: Стратегический менеджмент, Маркетинг и пр...</td>\n",
       "      <td>3824</td>\n",
       "      <td>2022-07-31</td>\n",
       "      <td>24.0</td>\n",
       "      <td>475000</td>\n",
       "      <td>39583</td>\n",
       "      <td>4.3</td>\n",
       "      <td>EMAS</td>\n",
       "      <td>17</td>\n",
       "      <td>0.0</td>\n",
       "    </tr>\n",
       "    <tr>\n",
       "      <th>519</th>\n",
       "      <td>Управление</td>\n",
       "      <td>Управление бизнесом</td>\n",
       "      <td>DBA: Стратегический менеджмент, Стартап-менедж...</td>\n",
       "      <td>3823</td>\n",
       "      <td>2022-07-31</td>\n",
       "      <td>24.0</td>\n",
       "      <td>475000</td>\n",
       "      <td>39583</td>\n",
       "      <td>4.3</td>\n",
       "      <td>EMAS</td>\n",
       "      <td>17</td>\n",
       "      <td>0.0</td>\n",
       "    </tr>\n",
       "    <tr>\n",
       "      <th>447</th>\n",
       "      <td>Управление</td>\n",
       "      <td>Управление бизнесом</td>\n",
       "      <td>Лидер цифровой трансформации CDTO</td>\n",
       "      <td>5375</td>\n",
       "      <td>2022-08-11</td>\n",
       "      <td>12.0</td>\n",
       "      <td>590000</td>\n",
       "      <td>147500</td>\n",
       "      <td>4.7</td>\n",
       "      <td>Академия АйТи</td>\n",
       "      <td>10</td>\n",
       "      <td>0.0</td>\n",
       "    </tr>\n",
       "    <tr>\n",
       "      <th>3348</th>\n",
       "      <td>Программирование</td>\n",
       "      <td>Управление разработкой и IT</td>\n",
       "      <td>Лидер цифровой трансформации CDTO</td>\n",
       "      <td>5375</td>\n",
       "      <td>2022-08-11</td>\n",
       "      <td>12.0</td>\n",
       "      <td>590000</td>\n",
       "      <td>147500</td>\n",
       "      <td>4.7</td>\n",
       "      <td>Академия АйТи</td>\n",
       "      <td>10</td>\n",
       "      <td>0.0</td>\n",
       "    </tr>\n",
       "    <tr>\n",
       "      <th>4449</th>\n",
       "      <td>Аналитика</td>\n",
       "      <td>Аналитика для руководителей</td>\n",
       "      <td>Лидер цифровой трансформации CDTO</td>\n",
       "      <td>5375</td>\n",
       "      <td>2022-08-11</td>\n",
       "      <td>12.0</td>\n",
       "      <td>590000</td>\n",
       "      <td>147500</td>\n",
       "      <td>4.7</td>\n",
       "      <td>Академия АйТи</td>\n",
       "      <td>10</td>\n",
       "      <td>0.0</td>\n",
       "    </tr>\n",
       "    <tr>\n",
       "      <th>451</th>\n",
       "      <td>Управление</td>\n",
       "      <td>Управление бизнесом</td>\n",
       "      <td>Цифровое предпринимательство</td>\n",
       "      <td>1201</td>\n",
       "      <td>2022-07-29</td>\n",
       "      <td>24.0</td>\n",
       "      <td>700000</td>\n",
       "      <td>175000</td>\n",
       "      <td>4.8</td>\n",
       "      <td>Нетология</td>\n",
       "      <td>72</td>\n",
       "      <td>0.0</td>\n",
       "    </tr>\n",
       "    <tr>\n",
       "      <th>3055</th>\n",
       "      <td>Управление</td>\n",
       "      <td>Запуск стартапов</td>\n",
       "      <td>Цифровое предпринимательство</td>\n",
       "      <td>1201</td>\n",
       "      <td>2022-07-29</td>\n",
       "      <td>24.0</td>\n",
       "      <td>700000</td>\n",
       "      <td>175000</td>\n",
       "      <td>4.8</td>\n",
       "      <td>Нетология</td>\n",
       "      <td>72</td>\n",
       "      <td>0.0</td>\n",
       "    </tr>\n",
       "    <tr>\n",
       "      <th>5108</th>\n",
       "      <td>Дизайн</td>\n",
       "      <td>Дизайн интерьеров</td>\n",
       "      <td>Дизайн интерьеров</td>\n",
       "      <td>3907</td>\n",
       "      <td>2022-08-29</td>\n",
       "      <td>0.0</td>\n",
       "      <td>700000</td>\n",
       "      <td>19444</td>\n",
       "      <td>4.3</td>\n",
       "      <td>Среда обучения</td>\n",
       "      <td>37</td>\n",
       "      <td>0.0</td>\n",
       "    </tr>\n",
       "    <tr>\n",
       "      <th>3045</th>\n",
       "      <td>Управление</td>\n",
       "      <td>Запуск стартапов</td>\n",
       "      <td>Управление цифровым продуктом</td>\n",
       "      <td>1200</td>\n",
       "      <td>2022-07-29</td>\n",
       "      <td>0.0</td>\n",
       "      <td>750000</td>\n",
       "      <td>187500</td>\n",
       "      <td>4.8</td>\n",
       "      <td>Нетология</td>\n",
       "      <td>72</td>\n",
       "      <td>0.0</td>\n",
       "    </tr>\n",
       "    <tr>\n",
       "      <th>424</th>\n",
       "      <td>Управление</td>\n",
       "      <td>Product-менеджмент</td>\n",
       "      <td>Управление цифровым продуктом</td>\n",
       "      <td>1200</td>\n",
       "      <td>2022-07-29</td>\n",
       "      <td>0.0</td>\n",
       "      <td>750000</td>\n",
       "      <td>187500</td>\n",
       "      <td>4.8</td>\n",
       "      <td>Нетология</td>\n",
       "      <td>72</td>\n",
       "      <td>0.0</td>\n",
       "    </tr>\n",
       "    <tr>\n",
       "      <th>926</th>\n",
       "      <td>Дизайн</td>\n",
       "      <td>Графический дизайн</td>\n",
       "      <td>Визуальное искусство</td>\n",
       "      <td>3894</td>\n",
       "      <td>2022-09-01</td>\n",
       "      <td>0.0</td>\n",
       "      <td>770000</td>\n",
       "      <td>21388</td>\n",
       "      <td>4.3</td>\n",
       "      <td>Среда обучения</td>\n",
       "      <td>37</td>\n",
       "      <td>0.0</td>\n",
       "    </tr>\n",
       "    <tr>\n",
       "      <th>943</th>\n",
       "      <td>Дизайн</td>\n",
       "      <td>Графический дизайн</td>\n",
       "      <td>Дизайн цифровых продуктов</td>\n",
       "      <td>3893</td>\n",
       "      <td>2022-09-01</td>\n",
       "      <td>0.0</td>\n",
       "      <td>770000</td>\n",
       "      <td>21388</td>\n",
       "      <td>4.3</td>\n",
       "      <td>Среда обучения</td>\n",
       "      <td>37</td>\n",
       "      <td>0.0</td>\n",
       "    </tr>\n",
       "    <tr>\n",
       "      <th>954</th>\n",
       "      <td>Дизайн</td>\n",
       "      <td>Графический дизайн</td>\n",
       "      <td>Коммуникационный дизайн</td>\n",
       "      <td>3892</td>\n",
       "      <td>2022-09-01</td>\n",
       "      <td>0.0</td>\n",
       "      <td>770000</td>\n",
       "      <td>21388</td>\n",
       "      <td>4.3</td>\n",
       "      <td>Среда обучения</td>\n",
       "      <td>37</td>\n",
       "      <td>0.0</td>\n",
       "    </tr>\n",
       "    <tr>\n",
       "      <th>4943</th>\n",
       "      <td>Управление</td>\n",
       "      <td>Управление командами</td>\n",
       "      <td>CDTO: программа для лидеров цифровой трансформ...</td>\n",
       "      <td>5640</td>\n",
       "      <td>2022-10-03</td>\n",
       "      <td>4.0</td>\n",
       "      <td>1000000</td>\n",
       "      <td>0</td>\n",
       "      <td>4.3</td>\n",
       "      <td>Университет Иннополис</td>\n",
       "      <td>21</td>\n",
       "      <td>0.0</td>\n",
       "    </tr>\n",
       "    <tr>\n",
       "      <th>4962</th>\n",
       "      <td>Управление</td>\n",
       "      <td>MBA</td>\n",
       "      <td>CDTO: программа для лидеров цифровой трансформ...</td>\n",
       "      <td>5640</td>\n",
       "      <td>2022-10-03</td>\n",
       "      <td>4.0</td>\n",
       "      <td>1000000</td>\n",
       "      <td>0</td>\n",
       "      <td>4.3</td>\n",
       "      <td>Университет Иннополис</td>\n",
       "      <td>21</td>\n",
       "      <td>0.0</td>\n",
       "    </tr>\n",
       "    <tr>\n",
       "      <th>8652</th>\n",
       "      <td>Бизнес и финансы</td>\n",
       "      <td>Директорские курсы</td>\n",
       "      <td>CDTO: программа для лидеров цифровой трансформ...</td>\n",
       "      <td>5640</td>\n",
       "      <td>2022-10-03</td>\n",
       "      <td>4.0</td>\n",
       "      <td>1000000</td>\n",
       "      <td>0</td>\n",
       "      <td>4.3</td>\n",
       "      <td>Университет Иннополис</td>\n",
       "      <td>21</td>\n",
       "      <td>0.0</td>\n",
       "    </tr>\n",
       "    <tr>\n",
       "      <th>4956</th>\n",
       "      <td>Управление</td>\n",
       "      <td>MBA</td>\n",
       "      <td>MBA «Лидеры изменений»</td>\n",
       "      <td>3723</td>\n",
       "      <td>2022-07-30</td>\n",
       "      <td>0.0</td>\n",
       "      <td>1300000</td>\n",
       "      <td>0</td>\n",
       "      <td>4.6</td>\n",
       "      <td>Skillbox</td>\n",
       "      <td>138</td>\n",
       "      <td>0.0</td>\n",
       "    </tr>\n",
       "    <tr>\n",
       "      <th>3101</th>\n",
       "      <td>Управление</td>\n",
       "      <td>Финансы для руководителей</td>\n",
       "      <td>Миллион с Аязом</td>\n",
       "      <td>4754</td>\n",
       "      <td>2022-07-29</td>\n",
       "      <td>0.0</td>\n",
       "      <td>1500000</td>\n",
       "      <td>0</td>\n",
       "      <td>4.0</td>\n",
       "      <td>Like Центр</td>\n",
       "      <td>34</td>\n",
       "      <td>0.0</td>\n",
       "    </tr>\n",
       "    <tr>\n",
       "      <th>464</th>\n",
       "      <td>Управление</td>\n",
       "      <td>Управление бизнесом</td>\n",
       "      <td>Миллион с Аязом</td>\n",
       "      <td>4754</td>\n",
       "      <td>2022-07-29</td>\n",
       "      <td>0.0</td>\n",
       "      <td>1500000</td>\n",
       "      <td>0</td>\n",
       "      <td>4.0</td>\n",
       "      <td>Like Центр</td>\n",
       "      <td>34</td>\n",
       "      <td>0.0</td>\n",
       "    </tr>\n",
       "    <tr>\n",
       "      <th>8650</th>\n",
       "      <td>Бизнес и финансы</td>\n",
       "      <td>Директорские курсы</td>\n",
       "      <td>Миллион с Аязом</td>\n",
       "      <td>4754</td>\n",
       "      <td>2022-07-29</td>\n",
       "      <td>0.0</td>\n",
       "      <td>1500000</td>\n",
       "      <td>0</td>\n",
       "      <td>4.0</td>\n",
       "      <td>Like Центр</td>\n",
       "      <td>34</td>\n",
       "      <td>0.0</td>\n",
       "    </tr>\n",
       "  </tbody>\n",
       "</table>\n",
       "</div>"
      ],
      "text/plain": [
       "              category                    partition  \\\n",
       "207   Программирование        JavaScript-разработка   \n",
       "3686  Программирование          Верстка на HTML/CSS   \n",
       "4999        Управление                          MBA   \n",
       "4995        Управление                          MBA   \n",
       "4991        Управление                          MBA   \n",
       "3923  Программирование            Фреймворк ReactJS   \n",
       "3951  Программирование                 Работа с GIT   \n",
       "596         Управление          Управление бизнесом   \n",
       "591         Управление          Управление бизнесом   \n",
       "586         Управление          Управление бизнесом   \n",
       "77    Программирование               Web-разработка   \n",
       "3058        Управление             Запуск стартапов   \n",
       "581         Управление          Управление бизнесом   \n",
       "576         Управление          Управление бизнесом   \n",
       "564         Управление          Управление бизнесом   \n",
       "570         Управление          Управление бизнесом   \n",
       "3114        Управление    Финансы для руководителей   \n",
       "4958        Управление                          MBA   \n",
       "4967        Управление                          MBA   \n",
       "4974        Управление                          MBA   \n",
       "4981        Управление                          MBA   \n",
       "558         Управление          Управление бизнесом   \n",
       "4987        Управление                          MBA   \n",
       "403         Управление           Product-менеджмент   \n",
       "3046        Управление             Запуск стартапов   \n",
       "2976            Дизайн      Создание и монтаж видео   \n",
       "3462  Программирование          Frontend-разработка   \n",
       "3379  Программирование              Java-разработка   \n",
       "3936  Программирование             Фреймворк Spring   \n",
       "540         Управление          Управление бизнесом   \n",
       "550         Управление          Управление бизнесом   \n",
       "5113            Дизайн            Дизайн интерьеров   \n",
       "4701        Управление               Продюсирование   \n",
       "3048        Управление             Запуск стартапов   \n",
       "530         Управление          Управление бизнесом   \n",
       "3097        Управление    Финансы для руководителей   \n",
       "458         Управление          Управление бизнесом   \n",
       "484         Управление          Управление бизнесом   \n",
       "505         Управление          Управление бизнесом   \n",
       "519         Управление          Управление бизнесом   \n",
       "447         Управление          Управление бизнесом   \n",
       "3348  Программирование  Управление разработкой и IT   \n",
       "4449         Аналитика  Аналитика для руководителей   \n",
       "451         Управление          Управление бизнесом   \n",
       "3055        Управление             Запуск стартапов   \n",
       "5108            Дизайн            Дизайн интерьеров   \n",
       "3045        Управление             Запуск стартапов   \n",
       "424         Управление           Product-менеджмент   \n",
       "926             Дизайн           Графический дизайн   \n",
       "943             Дизайн           Графический дизайн   \n",
       "954             Дизайн           Графический дизайн   \n",
       "4943        Управление         Управление командами   \n",
       "4962        Управление                          MBA   \n",
       "8652  Бизнес и финансы           Директорские курсы   \n",
       "4956        Управление                          MBA   \n",
       "3101        Управление    Финансы для руководителей   \n",
       "464         Управление          Управление бизнесом   \n",
       "8650  Бизнес и финансы           Директорские курсы   \n",
       "\n",
       "                                           course_title  course_id  \\\n",
       "207   Очный интенсив \"Full-stack разработчик. JavaSc...       5330   \n",
       "3686  Очный интенсив \"Full-stack разработчик. JavaSc...       5330   \n",
       "4999   Global Executive MBA: Стратегический менеджмент,       3813   \n",
       "4995                              Executive MBA ǀ 1 год       3819   \n",
       "4991  Executive MBA: Стратегический менеджмент, дипл...       3820   \n",
       "3923  Очный интенсив \"Full-stack разработчик. JavaSc...       5330   \n",
       "3951  Очный интенсив \"Full-stack разработчик. JavaSc...       5330   \n",
       "596    Global Executive MBA: Стратегический менеджмент,       3813   \n",
       "591                               Executive MBA ǀ 1 год       3819   \n",
       "586   Executive MBA: Стратегический менеджмент, дипл...       3820   \n",
       "77    Колледж \"Академия TOP\". Разработка программног...       4865   \n",
       "3058  Executive MBA: Стратегический менеджмент, Стар...       3815   \n",
       "581   Executive MBA: Стратегический менеджмент, Бизн...       3814   \n",
       "576   Executive MBA: Стратегический менеджмент, Стар...       3815   \n",
       "564   Executive MBA: Стратегический менеджмент, Финансы       3817   \n",
       "570   Executive MBA: Стратегический менеджмент, Марк...       3816   \n",
       "3114  Executive MBA: Стратегический менеджмент, Финансы       3817   \n",
       "4958  Executive MBA: Стратегический менеджмент, Мене...       3818   \n",
       "4967  Executive MBA: Стратегический менеджмент, Финансы       3817   \n",
       "4974  Executive MBA: Стратегический менеджмент, Марк...       3816   \n",
       "4981  Executive MBA: Стратегический менеджмент, Стар...       3815   \n",
       "558   Executive MBA: Стратегический менеджмент, Мене...       3818   \n",
       "4987  Executive MBA: Стратегический менеджмент, Бизн...       3814   \n",
       "403                   Акселератор продуктовых IT-команд        874   \n",
       "3046                  Акселератор продуктовых IT-команд        874   \n",
       "2976                                  Режиссура рекламы       4017   \n",
       "3462                                           Frontend       5277   \n",
       "3379                        Online-курс Java разработки       4792   \n",
       "3936                        Online-курс Java разработки       4792   \n",
       "540   DBA: Стратегический менеджмент, дипломы России...       3827   \n",
       "550                      DBA: Стратегический менеджмент       3821   \n",
       "5113                  Профессия дизайнер интерьера. VIP       5516   \n",
       "4701                                     Продюсирование       4019   \n",
       "3048  DBA: Стратегический менеджмент, Стартап-менедж...       3823   \n",
       "530   DBA: Стратегический менеджмент, Бизнес в цифро...       3822   \n",
       "3097            DBA: Стратегический менеджмент, Финансы       3825   \n",
       "458   DBA: Стратегический менеджмент, Менеджмент в м...       3826   \n",
       "484             DBA: Стратегический менеджмент, Финансы       3825   \n",
       "505   DBA: Стратегический менеджмент, Маркетинг и пр...       3824   \n",
       "519   DBA: Стратегический менеджмент, Стартап-менедж...       3823   \n",
       "447                   Лидер цифровой трансформации CDTO       5375   \n",
       "3348                  Лидер цифровой трансформации CDTO       5375   \n",
       "4449                  Лидер цифровой трансформации CDTO       5375   \n",
       "451                        Цифровое предпринимательство       1201   \n",
       "3055                       Цифровое предпринимательство       1201   \n",
       "5108                                  Дизайн интерьеров       3907   \n",
       "3045                      Управление цифровым продуктом       1200   \n",
       "424                       Управление цифровым продуктом       1200   \n",
       "926                                Визуальное искусство       3894   \n",
       "943                           Дизайн цифровых продуктов       3893   \n",
       "954                             Коммуникационный дизайн       3892   \n",
       "4943  CDTO: программа для лидеров цифровой трансформ...       5640   \n",
       "4962  CDTO: программа для лидеров цифровой трансформ...       5640   \n",
       "8652  CDTO: программа для лидеров цифровой трансформ...       5640   \n",
       "4956                             MBA «Лидеры изменений»       3723   \n",
       "3101                                    Миллион с Аязом       4754   \n",
       "464                                     Миллион с Аязом       4754   \n",
       "8650                                    Миллион с Аязом       4754   \n",
       "\n",
       "      date_begin  dlitelnost    price  rassrochka  rating  \\\n",
       "207   2022-08-08         3.0   305000      108000     4.3   \n",
       "3686  2022-08-08         3.0   305000      108000     4.3   \n",
       "4999  2022-07-31         0.0   305000       25416     4.3   \n",
       "4995  2022-07-31         0.0   305000       25416     4.3   \n",
       "4991  2022-07-31         0.0   305000       25416     4.3   \n",
       "3923  2022-08-08         3.0   305000      108000     4.3   \n",
       "3951  2022-08-08         3.0   305000      108000     4.3   \n",
       "596   2022-07-31         0.0   305000       25416     4.3   \n",
       "591   2022-07-31         0.0   305000       25416     4.3   \n",
       "586   2022-07-31         0.0   305000       25416     4.3   \n",
       "77    2022-07-29        30.0   315000       31500     4.5   \n",
       "3058  2022-07-31         0.0   325000       27083     4.3   \n",
       "581   2022-07-31         0.0   325000       27083     4.3   \n",
       "576   2022-07-31         0.0   325000       27083     4.3   \n",
       "564   2022-07-31        24.0   325000       27083     4.3   \n",
       "570   2022-07-31         0.0   325000       27083     4.3   \n",
       "3114  2022-07-31        24.0   325000       27083     4.3   \n",
       "4958  2022-07-31         0.0   325000       27083     4.3   \n",
       "4967  2022-07-31        24.0   325000       27083     4.3   \n",
       "4974  2022-07-31         0.0   325000       27083     4.3   \n",
       "4981  2022-07-31         0.0   325000       27083     4.3   \n",
       "558   2022-07-31         0.0   325000       27083     4.3   \n",
       "4987  2022-07-31         0.0   325000       27083     4.3   \n",
       "403   2022-07-30         0.0   350000       29167     4.6   \n",
       "3046  2022-07-30         0.0   350000       29167     4.6   \n",
       "2976  2022-09-01         0.0   390000       32500     4.3   \n",
       "3462  2022-08-25         9.0   408000           0     4.8   \n",
       "3379  2022-08-10         8.0   408000           0     4.8   \n",
       "3936  2022-08-10         8.0   408000           0     4.8   \n",
       "540   2022-07-31        24.0   445000       37083     4.3   \n",
       "550   2022-07-31        24.0   445000       37083     4.3   \n",
       "5113  2022-08-11         8.0   450000           0     4.3   \n",
       "4701  2022-11-28        23.0   455000       18958     4.3   \n",
       "3048  2022-07-31        24.0   475000       39583     4.3   \n",
       "530   2022-07-31        24.0   475000       39583     4.3   \n",
       "3097  2022-07-31        24.0   475000       39583     4.3   \n",
       "458   2022-07-31        24.0   475000       39583     4.3   \n",
       "484   2022-07-31        24.0   475000       39583     4.3   \n",
       "505   2022-07-31        24.0   475000       39583     4.3   \n",
       "519   2022-07-31        24.0   475000       39583     4.3   \n",
       "447   2022-08-11        12.0   590000      147500     4.7   \n",
       "3348  2022-08-11        12.0   590000      147500     4.7   \n",
       "4449  2022-08-11        12.0   590000      147500     4.7   \n",
       "451   2022-07-29        24.0   700000      175000     4.8   \n",
       "3055  2022-07-29        24.0   700000      175000     4.8   \n",
       "5108  2022-08-29         0.0   700000       19444     4.3   \n",
       "3045  2022-07-29         0.0   750000      187500     4.8   \n",
       "424   2022-07-29         0.0   750000      187500     4.8   \n",
       "926   2022-09-01         0.0   770000       21388     4.3   \n",
       "943   2022-09-01         0.0   770000       21388     4.3   \n",
       "954   2022-09-01         0.0   770000       21388     4.3   \n",
       "4943  2022-10-03         4.0  1000000           0     4.3   \n",
       "4962  2022-10-03         4.0  1000000           0     4.3   \n",
       "8652  2022-10-03         4.0  1000000           0     4.3   \n",
       "4956  2022-07-30         0.0  1300000           0     4.6   \n",
       "3101  2022-07-29         0.0  1500000           0     4.0   \n",
       "464   2022-07-29         0.0  1500000           0     4.0   \n",
       "8650  2022-07-29         0.0  1500000           0     4.0   \n",
       "\n",
       "                           school  school_reviews  discount  \n",
       "207        Elbrus Coding Bootcamp              13       0.0  \n",
       "3686       Elbrus Coding Bootcamp              13       0.0  \n",
       "4999                         EMAS              17       0.0  \n",
       "4995                         EMAS              17       0.0  \n",
       "4991                         EMAS              17       0.0  \n",
       "3923       Elbrus Coding Bootcamp              13       0.0  \n",
       "3951       Elbrus Coding Bootcamp              13       0.0  \n",
       "596                          EMAS              17       0.0  \n",
       "591                          EMAS              17       0.0  \n",
       "586                          EMAS              17       0.0  \n",
       "77          Компьют. Академия TOP              44       0.0  \n",
       "3058                         EMAS              17       0.0  \n",
       "581                          EMAS              17       0.0  \n",
       "576                          EMAS              17       0.0  \n",
       "564                          EMAS              17       0.0  \n",
       "570                          EMAS              17       0.0  \n",
       "3114                         EMAS              17       0.0  \n",
       "4958                         EMAS              17       0.0  \n",
       "4967                         EMAS              17       0.0  \n",
       "4974                         EMAS              17       0.0  \n",
       "4981                         EMAS              17       0.0  \n",
       "558                          EMAS              17       0.0  \n",
       "4987                         EMAS              17       0.0  \n",
       "403                      Skillbox             138       0.0  \n",
       "3046                     Skillbox             138       0.0  \n",
       "2976               Среда обучения              37       0.0  \n",
       "3462  Kata Academy by Java Mentor              30       0.0  \n",
       "3379  Kata Academy by Java Mentor              30       0.0  \n",
       "3936  Kata Academy by Java Mentor              30       0.0  \n",
       "540                          EMAS              17       0.0  \n",
       "550                          EMAS              17       0.0  \n",
       "5113                     U.Design              30       0.0  \n",
       "4701               Среда обучения              37       0.0  \n",
       "3048                         EMAS              17       0.0  \n",
       "530                          EMAS              17       0.0  \n",
       "3097                         EMAS              17       0.0  \n",
       "458                          EMAS              17       0.0  \n",
       "484                          EMAS              17       0.0  \n",
       "505                          EMAS              17       0.0  \n",
       "519                          EMAS              17       0.0  \n",
       "447                 Академия АйТи              10       0.0  \n",
       "3348                Академия АйТи              10       0.0  \n",
       "4449                Академия АйТи              10       0.0  \n",
       "451                     Нетология              72       0.0  \n",
       "3055                    Нетология              72       0.0  \n",
       "5108               Среда обучения              37       0.0  \n",
       "3045                    Нетология              72       0.0  \n",
       "424                     Нетология              72       0.0  \n",
       "926                Среда обучения              37       0.0  \n",
       "943                Среда обучения              37       0.0  \n",
       "954                Среда обучения              37       0.0  \n",
       "4943        Университет Иннополис              21       0.0  \n",
       "4962        Университет Иннополис              21       0.0  \n",
       "8652        Университет Иннополис              21       0.0  \n",
       "4956                     Skillbox             138       0.0  \n",
       "3101                   Like Центр              34       0.0  \n",
       "464                    Like Центр              34       0.0  \n",
       "8650                   Like Центр              34       0.0  "
      ]
     },
     "execution_count": 16,
     "metadata": {},
     "output_type": "execute_result"
    }
   ],
   "source": [
    "df[df.price > 300000].sort_values('price')"
   ]
  },
  {
   "cell_type": "markdown",
   "metadata": {
    "id": "LtpT7Cc7OmRn"
   },
   "source": [
    "Некоторые курсы входят в разные разделы и разные категории, для дальнейшего анализа нужно избавиться от дубликатов и удалить курсы стоимостю более 420 тысяч, что бы отсечь дорогие директорские курсы для управления бизнесом."
   ]
  },
  {
   "cell_type": "code",
   "execution_count": 17,
   "metadata": {
    "colab": {
     "base_uri": "https://localhost:8080/"
    },
    "id": "h4Q2SJKEOmRn",
    "outputId": "a5d5a459-3fde-4415-b2a6-8a7e8f311747"
   },
   "outputs": [
    {
     "data": {
      "text/plain": [
       "Int64Index([4847, 4850, 3702, 5632, 3692, 5340, 3691, 4846, 3687, 3685,\n",
       "            ...\n",
       "            2695, 1186, 4471, 5267,  432, 3038,  337, 1578, 1574, 4365],\n",
       "           dtype='int64', length=1021)"
      ]
     },
     "execution_count": 17,
     "metadata": {},
     "output_type": "execute_result"
    }
   ],
   "source": [
    "df = df[df.price < 420000]\n",
    "\n",
    "cnt = df['course_id'].value_counts()\n",
    "course_idx = cnt[cnt > 1].index\n",
    "course_idx"
   ]
  },
  {
   "cell_type": "code",
   "execution_count": 18,
   "metadata": {
    "id": "x6pPXuyXOmRo"
   },
   "outputs": [
    {
     "data": {
      "text/markdown": [
       "#### 1021 курсов имеют дубли!"
      ],
      "text/plain": [
       "<IPython.core.display.Markdown object>"
      ]
     },
     "metadata": {},
     "output_type": "display_data"
    }
   ],
   "source": [
    "printmd(f'{len(course_idx)} курсов имеют дубли!')"
   ]
  },
  {
   "cell_type": "code",
   "execution_count": 19,
   "metadata": {
    "colab": {
     "base_uri": "https://localhost:8080/",
     "height": 300
    },
    "id": "vnKeLIXmOmRo",
    "outputId": "803fda4b-4dbf-48f4-bb4d-74f0ec5a6598"
   },
   "outputs": [
    {
     "data": {
      "text/html": [
       "<div>\n",
       "<style scoped>\n",
       "    .dataframe tbody tr th:only-of-type {\n",
       "        vertical-align: middle;\n",
       "    }\n",
       "\n",
       "    .dataframe tbody tr th {\n",
       "        vertical-align: top;\n",
       "    }\n",
       "\n",
       "    .dataframe thead th {\n",
       "        text-align: right;\n",
       "    }\n",
       "</style>\n",
       "<table border=\"1\" class=\"dataframe\">\n",
       "  <thead>\n",
       "    <tr style=\"text-align: right;\">\n",
       "      <th></th>\n",
       "      <th>price</th>\n",
       "    </tr>\n",
       "  </thead>\n",
       "  <tbody>\n",
       "    <tr>\n",
       "      <th>count</th>\n",
       "      <td>2733.0</td>\n",
       "    </tr>\n",
       "    <tr>\n",
       "      <th>mean</th>\n",
       "      <td>56803.0</td>\n",
       "    </tr>\n",
       "    <tr>\n",
       "      <th>std</th>\n",
       "      <td>61811.0</td>\n",
       "    </tr>\n",
       "    <tr>\n",
       "      <th>min</th>\n",
       "      <td>1.0</td>\n",
       "    </tr>\n",
       "    <tr>\n",
       "      <th>25%</th>\n",
       "      <td>11970.0</td>\n",
       "    </tr>\n",
       "    <tr>\n",
       "      <th>50%</th>\n",
       "      <td>34930.0</td>\n",
       "    </tr>\n",
       "    <tr>\n",
       "      <th>75%</th>\n",
       "      <td>84000.0</td>\n",
       "    </tr>\n",
       "    <tr>\n",
       "      <th>max</th>\n",
       "      <td>408000.0</td>\n",
       "    </tr>\n",
       "  </tbody>\n",
       "</table>\n",
       "</div>"
      ],
      "text/plain": [
       "          price\n",
       "count    2733.0\n",
       "mean    56803.0\n",
       "std     61811.0\n",
       "min         1.0\n",
       "25%     11970.0\n",
       "50%     34930.0\n",
       "75%     84000.0\n",
       "max    408000.0"
      ]
     },
     "execution_count": 19,
     "metadata": {},
     "output_type": "execute_result"
    }
   ],
   "source": [
    "dfp = df.drop(['category', 'partition'], axis=1).drop_duplicates('course_id')\n",
    "pd.DataFrame(dfp.price.describe().round())"
   ]
  },
  {
   "cell_type": "markdown",
   "metadata": {
    "id": "0RkC2-frOmRo"
   },
   "source": [
    "####  После удаления дубликатов и дорогих курсов:"
   ]
  },
  {
   "cell_type": "code",
   "execution_count": 20,
   "metadata": {},
   "outputs": [
    {
     "data": {
      "text/markdown": [
       "#### Медианная стоимость курса = 42 тыс."
      ],
      "text/plain": [
       "<IPython.core.display.Markdown object>"
      ]
     },
     "metadata": {},
     "output_type": "display_data"
    },
    {
     "data": {
      "text/markdown": [
       "#### Средняя стоимость курса = 64 тыс."
      ],
      "text/plain": [
       "<IPython.core.display.Markdown object>"
      ]
     },
     "metadata": {},
     "output_type": "display_data"
    }
   ],
   "source": [
    "printmd(f'Медианная стоимость курса = {ths(df.price.median())} тыс.')\n",
    "printmd(f'Средняя стоимость курса = {ths(df.price.mean())} тыс.')"
   ]
  },
  {
   "cell_type": "code",
   "execution_count": 21,
   "metadata": {
    "colab": {
     "base_uri": "https://localhost:8080/",
     "height": 522
    },
    "id": "txxcj_2OOmRp",
    "outputId": "83155724-a6bd-4683-c2ee-75a22b8cdc35"
   },
   "outputs": [
    {
     "data": {
      "image/png": "[encoded data removed]",
      "text/plain": [
       "<Figure size 1152x576 with 1 Axes>"
      ]
     },
     "metadata": {
      "needs_background": "light"
     },
     "output_type": "display_data"
    }
   ],
   "source": [
    "dfp['price'].hist(bins=120, figsize=(16, 8), alpha=0.7)\n",
    "plt.ylabel('Количество')\n",
    "plt.xlabel('Стоимость курса')\n",
    "plt.title('Распределение стоимости курсов')\n",
    "plt.show()"
   ]
  },
  {
   "cell_type": "markdown",
   "metadata": {
    "id": "DycvkzlrOmRp"
   },
   "source": [
    "#### Посмотрим на стоимость курсов по другому"
   ]
  },
  {
   "cell_type": "code",
   "execution_count": 22,
   "metadata": {
    "colab": {
     "base_uri": "https://localhost:8080/",
     "height": 250
    },
    "id": "78njxkmBOmRq",
    "outputId": "b6c4e791-c1f7-4a94-9366-be4a55e31874"
   },
   "outputs": [
    {
     "data": {
      "image/png": "[encoded data removed]",
      "text/plain": [
       "<Figure size 1152x216 with 1 Axes>"
      ]
     },
     "metadata": {
      "needs_background": "light"
     },
     "output_type": "display_data"
    }
   ],
   "source": [
    "fig, ax = plt.subplots(figsize=(16, 3))\n",
    "sns.boxplot(x='price', data=dfp, ax=ax)\n",
    "plt.xlabel('Стоимость курса')\n",
    "plt.title('Распределение стоимости курсов')\n",
    "plt.show()"
   ]
  },
  {
   "cell_type": "markdown",
   "metadata": {
    "id": "H2Jps5FVOmRq"
   },
   "source": [
    "Посмотрим на распределение стоимости курсов по категориям"
   ]
  },
  {
   "cell_type": "code",
   "execution_count": 23,
   "metadata": {
    "colab": {
     "base_uri": "https://localhost:8080/",
     "height": 522
    },
    "id": "_M9nZMczOmRq",
    "outputId": "5bb84541-44ba-4fcb-e9f1-23024a783aa3"
   },
   "outputs": [
    {
     "data": {
      "image/png": "[encoded data removed]",
      "text/plain": [
       "<Figure size 1152x576 with 1 Axes>"
      ]
     },
     "metadata": {
      "needs_background": "light"
     },
     "output_type": "display_data"
    }
   ],
   "source": [
    "fig, ax = plt.subplots(figsize=(16, 8))\n",
    "sns.boxplot(y='category', x='price', data=df, ax=ax)\n",
    "plt.title('Распределение стоимости курсов по категориям')\n",
    "plt.xlabel('Стоимость курса')\n",
    "plt.ylabel('Категория')\n",
    "plt.grid(axis='x')\n",
    "plt.show()"
   ]
  },
  {
   "cell_type": "markdown",
   "metadata": {
    "id": "8o7ZHslUOmRq"
   },
   "source": [
    "Из этого графика видно, что мединная стоимость курсов в категориях Программирование, Аналитика, Дизайн, Бизнес и финансы одинаковая, Маркетинг и Управление поменьше и на последнем месте находятся Иностранные языки.\n",
    "\n",
    "Проверим это на цифрах."
   ]
  },
  {
   "cell_type": "code",
   "execution_count": 24,
   "metadata": {
    "colab": {
     "base_uri": "https://localhost:8080/",
     "height": 300
    },
    "id": "S4Gpo1NvOmRr",
    "outputId": "282d45ae-8f7b-46f8-d1b8-09164724b5f4"
   },
   "outputs": [
    {
     "data": {
      "text/html": [
       "<div>\n",
       "<style scoped>\n",
       "    .dataframe tbody tr th:only-of-type {\n",
       "        vertical-align: middle;\n",
       "    }\n",
       "\n",
       "    .dataframe tbody tr th {\n",
       "        vertical-align: top;\n",
       "    }\n",
       "\n",
       "    .dataframe thead tr th {\n",
       "        text-align: left;\n",
       "    }\n",
       "</style>\n",
       "<table border=\"1\" class=\"dataframe\">\n",
       "  <thead>\n",
       "    <tr>\n",
       "      <th></th>\n",
       "      <th>category</th>\n",
       "      <th colspan=\"2\" halign=\"left\">price</th>\n",
       "    </tr>\n",
       "    <tr>\n",
       "      <th></th>\n",
       "      <th></th>\n",
       "      <th>median</th>\n",
       "      <th>mean</th>\n",
       "    </tr>\n",
       "  </thead>\n",
       "  <tbody>\n",
       "    <tr>\n",
       "      <th>0</th>\n",
       "      <td>Аналитика</td>\n",
       "      <td>64800.0</td>\n",
       "      <td>79870.0</td>\n",
       "    </tr>\n",
       "    <tr>\n",
       "      <th>1</th>\n",
       "      <td>Бизнес и финансы</td>\n",
       "      <td>59400.0</td>\n",
       "      <td>67612.0</td>\n",
       "    </tr>\n",
       "    <tr>\n",
       "      <th>2</th>\n",
       "      <td>Дизайн</td>\n",
       "      <td>54900.0</td>\n",
       "      <td>73052.0</td>\n",
       "    </tr>\n",
       "    <tr>\n",
       "      <th>3</th>\n",
       "      <td>Иностранные языки</td>\n",
       "      <td>3600.0</td>\n",
       "      <td>8883.0</td>\n",
       "    </tr>\n",
       "    <tr>\n",
       "      <th>4</th>\n",
       "      <td>Маркетинг</td>\n",
       "      <td>44700.0</td>\n",
       "      <td>57177.0</td>\n",
       "    </tr>\n",
       "    <tr>\n",
       "      <th>5</th>\n",
       "      <td>Программирование</td>\n",
       "      <td>60000.0</td>\n",
       "      <td>79338.0</td>\n",
       "    </tr>\n",
       "    <tr>\n",
       "      <th>6</th>\n",
       "      <td>Управление</td>\n",
       "      <td>39000.0</td>\n",
       "      <td>63710.0</td>\n",
       "    </tr>\n",
       "  </tbody>\n",
       "</table>\n",
       "</div>"
      ],
      "text/plain": [
       "            category    price         \n",
       "                       median     mean\n",
       "0          Аналитика  64800.0  79870.0\n",
       "1   Бизнес и финансы  59400.0  67612.0\n",
       "2             Дизайн  54900.0  73052.0\n",
       "3  Иностранные языки   3600.0   8883.0\n",
       "4          Маркетинг  44700.0  57177.0\n",
       "5   Программирование  60000.0  79338.0\n",
       "6         Управление  39000.0  63710.0"
      ]
     },
     "execution_count": 24,
     "metadata": {},
     "output_type": "execute_result"
    }
   ],
   "source": [
    "df.groupby('category', as_index=False).aggregate({'price': ['median', 'mean']}).round()"
   ]
  },
  {
   "cell_type": "markdown",
   "metadata": {
    "id": "YOvCHq7qOmRr"
   },
   "source": [
    "#### Проверим эти гипотезы статистическими методами.\n",
    "По гистограмме видно, что распределение стоимости курсов далеко от нормального. \n",
    "\n",
    "Проверка нормальности по критерию Шапиро-Уилка. Нулевая гипотеза: стоимость курсов имеет нормальное распределение."
   ]
  },
  {
   "cell_type": "code",
   "execution_count": 25,
   "metadata": {
    "colab": {
     "base_uri": "https://localhost:8080/"
    },
    "id": "owS_wIQrOmRr",
    "outputId": "6bb52774-33b6-41c6-df5e-28b527aa5005"
   },
   "outputs": [
    {
     "name": "stdout",
     "output_type": "stream",
     "text": [
      "Признак \"Стоимость курсов\": p-value = 0.0000\n",
      "Отвергаем нулевую гипотезу\n",
      "\n"
     ]
    }
   ],
   "source": [
    "def check_result(p_value, feature=None):\n",
    "    # задаем уровень значимости 5%\n",
    "    alpha = 0.05\n",
    "    if feature is not None:\n",
    "        nf = f'Признак \"{feature}\": ' \n",
    "    else:\n",
    "        nf = ''\n",
    "    print(f'{nf}p-value = {p_value:.4f}')\n",
    "    # сравниваем p-значение с заданным уровнем статистической значимости\n",
    "    if results.pvalue < alpha:\n",
    "        print(f'Отвергаем нулевую гипотезу')\n",
    "    else:\n",
    "        print(f'Принимаем нулевую гипотезу')\n",
    "    print()\n",
    "\n",
    "\n",
    "results = stats.shapiro(df['price'].dropna())\n",
    "check_result(results.pvalue, 'Стоимость курсов')"
   ]
  },
  {
   "cell_type": "markdown",
   "metadata": {
    "id": "ALsfjfkhOmRr"
   },
   "source": [
    "Данные имеют ненормальное распределение, для сравнения групп используем критерий Крускала-Уоллиса (у нас больше 2-х групп, данные ненормальные)"
   ]
  },
  {
   "cell_type": "code",
   "execution_count": 26,
   "metadata": {
    "colab": {
     "base_uri": "https://localhost:8080/"
    },
    "id": "waTG1CNrOmRr",
    "outputId": "a187a321-ace6-4ce9-b3bc-3a8e0fad79f9"
   },
   "outputs": [
    {
     "name": "stdout",
     "output_type": "stream",
     "text": [
      "p-value = 0.0197\n",
      "Отвергаем нулевую гипотезу\n",
      "\n"
     ]
    }
   ],
   "source": [
    "categories1 = ['Программирование', 'Аналитика', 'Дизайн', 'Бизнес и финансы']\n",
    "results = stats.kruskal(*[df[df['category'] == category]['price'].dropna() for category in categories1])\n",
    "check_result(results.pvalue)"
   ]
  },
  {
   "cell_type": "markdown",
   "metadata": {
    "id": "EDlI4DogOmRs"
   },
   "source": [
    "Т.е. стоимость курсов в этих категориях статистически различается. Проверим категории: Маркетинг и Управление, т.к. у нас 2 группы используем критерий Манна-Уитни. В этих категориях стоимость курсов не различается."
   ]
  },
  {
   "cell_type": "code",
   "execution_count": 27,
   "metadata": {
    "colab": {
     "base_uri": "https://localhost:8080/"
    },
    "id": "6AuRjJ_SOmRs",
    "outputId": "2c017702-96b4-48ba-c3fc-5ea892d4f200"
   },
   "outputs": [
    {
     "name": "stdout",
     "output_type": "stream",
     "text": [
      "p-value = 0.0121\n",
      "Отвергаем нулевую гипотезу\n",
      "\n"
     ]
    }
   ],
   "source": [
    "categories2 = ['Маркетинг', 'Управление']\n",
    "results = stats.mannwhitneyu(*[df[df['category'] == category]['price'].dropna() for category in categories2])\n",
    "check_result(results.pvalue)"
   ]
  },
  {
   "cell_type": "markdown",
   "metadata": {
    "id": "U6OlPiaCOmRs"
   },
   "source": [
    "#### Посмотрим на ключевых игроков на рынке курсов. "
   ]
  },
  {
   "cell_type": "code",
   "execution_count": 28,
   "metadata": {
    "id": "Wgq74_ziOmRs",
    "scrolled": false
   },
   "outputs": [],
   "source": [
    "def show_barh(dataset, column_name):\n",
    "    show_counts = dataset[column_name].value_counts()[:13][::-1]\n",
    "    fig, ax = plt.subplots(figsize=(16, 9))\n",
    "    plt.barh(show_counts.index, show_counts.values, alpha=0.7)\n",
    "    plt.grid(axis='x')\n",
    "    plt.title(f'Диаграмма распределения ТОП-13 авторов курсов')\n",
    "    plt.xlabel('Количество курсов')\n",
    "    plt.show()\n",
    "    return show_counts"
   ]
  },
  {
   "cell_type": "code",
   "execution_count": 29,
   "metadata": {
    "colab": {
     "base_uri": "https://localhost:8080/",
     "height": 576
    },
    "id": "pyzp_FTQOmRt",
    "outputId": "acfadf10-d3d9-43de-976b-a2a82c8919d5"
   },
   "outputs": [
    {
     "data": {
      "image/png": "[encoded data removed]",
      "text/plain": [
       "<Figure size 1152x648 with 1 Axes>"
      ]
     },
     "metadata": {
      "needs_background": "light"
     },
     "output_type": "display_data"
    }
   ],
   "source": [
    "s_counts = show_barh(dfp, 'school')"
   ]
  },
  {
   "cell_type": "markdown",
   "metadata": {
    "id": "uccJ6gELOmRt"
   },
   "source": [
    "Добавим к отобранным авторам курсов данные по рейтингу и количеству отзывов"
   ]
  },
  {
   "cell_type": "code",
   "execution_count": 30,
   "metadata": {
    "colab": {
     "base_uri": "https://localhost:8080/",
     "height": 457
    },
    "id": "helzEo9UOmRt",
    "outputId": "dd669c85-3758-4266-8e75-23cff00d4dda"
   },
   "outputs": [
    {
     "data": {
      "text/html": [
       "<div>\n",
       "<style scoped>\n",
       "    .dataframe tbody tr th:only-of-type {\n",
       "        vertical-align: middle;\n",
       "    }\n",
       "\n",
       "    .dataframe tbody tr th {\n",
       "        vertical-align: top;\n",
       "    }\n",
       "\n",
       "    .dataframe thead th {\n",
       "        text-align: right;\n",
       "    }\n",
       "</style>\n",
       "<table border=\"1\" class=\"dataframe\">\n",
       "  <thead>\n",
       "    <tr style=\"text-align: right;\">\n",
       "      <th></th>\n",
       "      <th>school</th>\n",
       "      <th>counts</th>\n",
       "      <th>rating</th>\n",
       "      <th>school_reviews</th>\n",
       "      <th>ratio</th>\n",
       "    </tr>\n",
       "  </thead>\n",
       "  <tbody>\n",
       "    <tr>\n",
       "      <th>0</th>\n",
       "      <td>Skillbox</td>\n",
       "      <td>407</td>\n",
       "      <td>4.6</td>\n",
       "      <td>159</td>\n",
       "      <td>0.4</td>\n",
       "    </tr>\n",
       "    <tr>\n",
       "      <th>1</th>\n",
       "      <td>Специалист.ру</td>\n",
       "      <td>218</td>\n",
       "      <td>4.3</td>\n",
       "      <td>23</td>\n",
       "      <td>0.1</td>\n",
       "    </tr>\n",
       "    <tr>\n",
       "      <th>2</th>\n",
       "      <td>Специалист.ру</td>\n",
       "      <td>218</td>\n",
       "      <td>4.4</td>\n",
       "      <td>24</td>\n",
       "      <td>0.1</td>\n",
       "    </tr>\n",
       "    <tr>\n",
       "      <th>3</th>\n",
       "      <td>GeekBrains</td>\n",
       "      <td>144</td>\n",
       "      <td>4.3</td>\n",
       "      <td>173</td>\n",
       "      <td>1.2</td>\n",
       "    </tr>\n",
       "    <tr>\n",
       "      <th>4</th>\n",
       "      <td>Нетология</td>\n",
       "      <td>143</td>\n",
       "      <td>4.8</td>\n",
       "      <td>76</td>\n",
       "      <td>0.5</td>\n",
       "    </tr>\n",
       "    <tr>\n",
       "      <th>5</th>\n",
       "      <td>Моск.институт проф.обр</td>\n",
       "      <td>122</td>\n",
       "      <td>4.3</td>\n",
       "      <td>8</td>\n",
       "      <td>0.1</td>\n",
       "    </tr>\n",
       "    <tr>\n",
       "      <th>6</th>\n",
       "      <td>Инфоурок</td>\n",
       "      <td>114</td>\n",
       "      <td>4.3</td>\n",
       "      <td>13</td>\n",
       "      <td>0.1</td>\n",
       "    </tr>\n",
       "    <tr>\n",
       "      <th>7</th>\n",
       "      <td>Контур.Школа</td>\n",
       "      <td>108</td>\n",
       "      <td>4.5</td>\n",
       "      <td>60</td>\n",
       "      <td>0.6</td>\n",
       "    </tr>\n",
       "    <tr>\n",
       "      <th>8</th>\n",
       "      <td>Skyford</td>\n",
       "      <td>91</td>\n",
       "      <td>4.3</td>\n",
       "      <td>27</td>\n",
       "      <td>0.3</td>\n",
       "    </tr>\n",
       "    <tr>\n",
       "      <th>9</th>\n",
       "      <td>Моск.инст.техн. и упр.</td>\n",
       "      <td>70</td>\n",
       "      <td>4.3</td>\n",
       "      <td>7</td>\n",
       "      <td>0.1</td>\n",
       "    </tr>\n",
       "    <tr>\n",
       "      <th>10</th>\n",
       "      <td>Моск. Бизнес Академия</td>\n",
       "      <td>66</td>\n",
       "      <td>4.8</td>\n",
       "      <td>24</td>\n",
       "      <td>0.4</td>\n",
       "    </tr>\n",
       "    <tr>\n",
       "      <th>11</th>\n",
       "      <td>Irs Academy</td>\n",
       "      <td>60</td>\n",
       "      <td>4.3</td>\n",
       "      <td>49</td>\n",
       "      <td>0.8</td>\n",
       "    </tr>\n",
       "    <tr>\n",
       "      <th>12</th>\n",
       "      <td>SkillFactory</td>\n",
       "      <td>48</td>\n",
       "      <td>4.5</td>\n",
       "      <td>229</td>\n",
       "      <td>4.8</td>\n",
       "    </tr>\n",
       "    <tr>\n",
       "      <th>13</th>\n",
       "      <td>SkillFactory</td>\n",
       "      <td>48</td>\n",
       "      <td>4.8</td>\n",
       "      <td>238</td>\n",
       "      <td>5.0</td>\n",
       "    </tr>\n",
       "    <tr>\n",
       "      <th>14</th>\n",
       "      <td>Яндекс Практикум</td>\n",
       "      <td>46</td>\n",
       "      <td>4.7</td>\n",
       "      <td>197</td>\n",
       "      <td>4.3</td>\n",
       "    </tr>\n",
       "  </tbody>\n",
       "</table>\n",
       "</div>"
      ],
      "text/plain": [
       "                    school  counts  rating  school_reviews  ratio\n",
       "0                 Skillbox     407     4.6             159    0.4\n",
       "1            Специалист.ру     218     4.3              23    0.1\n",
       "2            Специалист.ру     218     4.4              24    0.1\n",
       "3               GeekBrains     144     4.3             173    1.2\n",
       "4                Нетология     143     4.8              76    0.5\n",
       "5   Моск.институт проф.обр     122     4.3               8    0.1\n",
       "6                 Инфоурок     114     4.3              13    0.1\n",
       "7             Контур.Школа     108     4.5              60    0.6\n",
       "8                  Skyford      91     4.3              27    0.3\n",
       "9   Моск.инст.техн. и упр.      70     4.3               7    0.1\n",
       "10   Моск. Бизнес Академия      66     4.8              24    0.4\n",
       "11             Irs Academy      60     4.3              49    0.8\n",
       "12            SkillFactory      48     4.5             229    4.8\n",
       "13            SkillFactory      48     4.8             238    5.0\n",
       "14        Яндекс Практикум      46     4.7             197    4.3"
      ]
     },
     "execution_count": 30,
     "metadata": {},
     "output_type": "execute_result"
    }
   ],
   "source": [
    "counts = pd.DataFrame(s_counts[::-1])\n",
    "counts = counts.rename_axis('index').reset_index()\n",
    "counts.columns = ['school', 'counts']\n",
    "\n",
    "rt = dfp[dfp.school.isin(counts.school)][['school', 'school_reviews', 'rating']].groupby(['school', 'rating'], \n",
    "                                                                                         as_index=False).school_reviews.max()\n",
    "counts = counts.merge(rt, on='school', how='left')\n",
    "# добавим коэффициент: отношение количества отзывов производителя к количеству курсов\n",
    "counts['ratio'] = (counts['school_reviews'] / counts['counts']).round(1)\n",
    "counts"
   ]
  },
  {
   "cell_type": "markdown",
   "metadata": {
    "id": "F5qfWAAgOmRt"
   },
   "source": [
    "Сортировка по рейтингу"
   ]
  },
  {
   "cell_type": "code",
   "execution_count": 31,
   "metadata": {
    "colab": {
     "base_uri": "https://localhost:8080/",
     "height": 457
    },
    "id": "qD8Q8TrpOmRt",
    "outputId": "9eaf853e-f71d-4e2c-f672-8e6bdec06785"
   },
   "outputs": [
    {
     "data": {
      "text/html": [
       "<div>\n",
       "<style scoped>\n",
       "    .dataframe tbody tr th:only-of-type {\n",
       "        vertical-align: middle;\n",
       "    }\n",
       "\n",
       "    .dataframe tbody tr th {\n",
       "        vertical-align: top;\n",
       "    }\n",
       "\n",
       "    .dataframe thead th {\n",
       "        text-align: right;\n",
       "    }\n",
       "</style>\n",
       "<table border=\"1\" class=\"dataframe\">\n",
       "  <thead>\n",
       "    <tr style=\"text-align: right;\">\n",
       "      <th></th>\n",
       "      <th>school</th>\n",
       "      <th>counts</th>\n",
       "      <th>rating</th>\n",
       "      <th>school_reviews</th>\n",
       "      <th>ratio</th>\n",
       "    </tr>\n",
       "  </thead>\n",
       "  <tbody>\n",
       "    <tr>\n",
       "      <th>4</th>\n",
       "      <td>Нетология</td>\n",
       "      <td>143</td>\n",
       "      <td>4.8</td>\n",
       "      <td>76</td>\n",
       "      <td>0.5</td>\n",
       "    </tr>\n",
       "    <tr>\n",
       "      <th>10</th>\n",
       "      <td>Моск. Бизнес Академия</td>\n",
       "      <td>66</td>\n",
       "      <td>4.8</td>\n",
       "      <td>24</td>\n",
       "      <td>0.4</td>\n",
       "    </tr>\n",
       "    <tr>\n",
       "      <th>13</th>\n",
       "      <td>SkillFactory</td>\n",
       "      <td>48</td>\n",
       "      <td>4.8</td>\n",
       "      <td>238</td>\n",
       "      <td>5.0</td>\n",
       "    </tr>\n",
       "    <tr>\n",
       "      <th>14</th>\n",
       "      <td>Яндекс Практикум</td>\n",
       "      <td>46</td>\n",
       "      <td>4.7</td>\n",
       "      <td>197</td>\n",
       "      <td>4.3</td>\n",
       "    </tr>\n",
       "    <tr>\n",
       "      <th>0</th>\n",
       "      <td>Skillbox</td>\n",
       "      <td>407</td>\n",
       "      <td>4.6</td>\n",
       "      <td>159</td>\n",
       "      <td>0.4</td>\n",
       "    </tr>\n",
       "    <tr>\n",
       "      <th>7</th>\n",
       "      <td>Контур.Школа</td>\n",
       "      <td>108</td>\n",
       "      <td>4.5</td>\n",
       "      <td>60</td>\n",
       "      <td>0.6</td>\n",
       "    </tr>\n",
       "    <tr>\n",
       "      <th>12</th>\n",
       "      <td>SkillFactory</td>\n",
       "      <td>48</td>\n",
       "      <td>4.5</td>\n",
       "      <td>229</td>\n",
       "      <td>4.8</td>\n",
       "    </tr>\n",
       "    <tr>\n",
       "      <th>2</th>\n",
       "      <td>Специалист.ру</td>\n",
       "      <td>218</td>\n",
       "      <td>4.4</td>\n",
       "      <td>24</td>\n",
       "      <td>0.1</td>\n",
       "    </tr>\n",
       "    <tr>\n",
       "      <th>1</th>\n",
       "      <td>Специалист.ру</td>\n",
       "      <td>218</td>\n",
       "      <td>4.3</td>\n",
       "      <td>23</td>\n",
       "      <td>0.1</td>\n",
       "    </tr>\n",
       "    <tr>\n",
       "      <th>3</th>\n",
       "      <td>GeekBrains</td>\n",
       "      <td>144</td>\n",
       "      <td>4.3</td>\n",
       "      <td>173</td>\n",
       "      <td>1.2</td>\n",
       "    </tr>\n",
       "    <tr>\n",
       "      <th>5</th>\n",
       "      <td>Моск.институт проф.обр</td>\n",
       "      <td>122</td>\n",
       "      <td>4.3</td>\n",
       "      <td>8</td>\n",
       "      <td>0.1</td>\n",
       "    </tr>\n",
       "    <tr>\n",
       "      <th>6</th>\n",
       "      <td>Инфоурок</td>\n",
       "      <td>114</td>\n",
       "      <td>4.3</td>\n",
       "      <td>13</td>\n",
       "      <td>0.1</td>\n",
       "    </tr>\n",
       "    <tr>\n",
       "      <th>8</th>\n",
       "      <td>Skyford</td>\n",
       "      <td>91</td>\n",
       "      <td>4.3</td>\n",
       "      <td>27</td>\n",
       "      <td>0.3</td>\n",
       "    </tr>\n",
       "    <tr>\n",
       "      <th>9</th>\n",
       "      <td>Моск.инст.техн. и упр.</td>\n",
       "      <td>70</td>\n",
       "      <td>4.3</td>\n",
       "      <td>7</td>\n",
       "      <td>0.1</td>\n",
       "    </tr>\n",
       "    <tr>\n",
       "      <th>11</th>\n",
       "      <td>Irs Academy</td>\n",
       "      <td>60</td>\n",
       "      <td>4.3</td>\n",
       "      <td>49</td>\n",
       "      <td>0.8</td>\n",
       "    </tr>\n",
       "  </tbody>\n",
       "</table>\n",
       "</div>"
      ],
      "text/plain": [
       "                    school  counts  rating  school_reviews  ratio\n",
       "4                Нетология     143     4.8              76    0.5\n",
       "10   Моск. Бизнес Академия      66     4.8              24    0.4\n",
       "13            SkillFactory      48     4.8             238    5.0\n",
       "14        Яндекс Практикум      46     4.7             197    4.3\n",
       "0                 Skillbox     407     4.6             159    0.4\n",
       "7             Контур.Школа     108     4.5              60    0.6\n",
       "12            SkillFactory      48     4.5             229    4.8\n",
       "2            Специалист.ру     218     4.4              24    0.1\n",
       "1            Специалист.ру     218     4.3              23    0.1\n",
       "3               GeekBrains     144     4.3             173    1.2\n",
       "5   Моск.институт проф.обр     122     4.3               8    0.1\n",
       "6                 Инфоурок     114     4.3              13    0.1\n",
       "8                  Skyford      91     4.3              27    0.3\n",
       "9   Моск.инст.техн. и упр.      70     4.3               7    0.1\n",
       "11             Irs Academy      60     4.3              49    0.8"
      ]
     },
     "execution_count": 31,
     "metadata": {},
     "output_type": "execute_result"
    }
   ],
   "source": [
    "counts.sort_values(['rating', 'counts'], ascending=False)"
   ]
  },
  {
   "cell_type": "markdown",
   "metadata": {
    "id": "FuENkZdJOmRu"
   },
   "source": [
    "Сортировка по количеству отзывов"
   ]
  },
  {
   "cell_type": "code",
   "execution_count": 32,
   "metadata": {
    "colab": {
     "base_uri": "https://localhost:8080/",
     "height": 457
    },
    "id": "Kt_l5qugOmRu",
    "outputId": "0dcac4f8-133a-4740-e3f9-894e3d649cf0"
   },
   "outputs": [
    {
     "data": {
      "text/html": [
       "<div>\n",
       "<style scoped>\n",
       "    .dataframe tbody tr th:only-of-type {\n",
       "        vertical-align: middle;\n",
       "    }\n",
       "\n",
       "    .dataframe tbody tr th {\n",
       "        vertical-align: top;\n",
       "    }\n",
       "\n",
       "    .dataframe thead th {\n",
       "        text-align: right;\n",
       "    }\n",
       "</style>\n",
       "<table border=\"1\" class=\"dataframe\">\n",
       "  <thead>\n",
       "    <tr style=\"text-align: right;\">\n",
       "      <th></th>\n",
       "      <th>school</th>\n",
       "      <th>counts</th>\n",
       "      <th>rating</th>\n",
       "      <th>school_reviews</th>\n",
       "      <th>ratio</th>\n",
       "    </tr>\n",
       "  </thead>\n",
       "  <tbody>\n",
       "    <tr>\n",
       "      <th>13</th>\n",
       "      <td>SkillFactory</td>\n",
       "      <td>48</td>\n",
       "      <td>4.8</td>\n",
       "      <td>238</td>\n",
       "      <td>5.0</td>\n",
       "    </tr>\n",
       "    <tr>\n",
       "      <th>12</th>\n",
       "      <td>SkillFactory</td>\n",
       "      <td>48</td>\n",
       "      <td>4.5</td>\n",
       "      <td>229</td>\n",
       "      <td>4.8</td>\n",
       "    </tr>\n",
       "    <tr>\n",
       "      <th>14</th>\n",
       "      <td>Яндекс Практикум</td>\n",
       "      <td>46</td>\n",
       "      <td>4.7</td>\n",
       "      <td>197</td>\n",
       "      <td>4.3</td>\n",
       "    </tr>\n",
       "    <tr>\n",
       "      <th>3</th>\n",
       "      <td>GeekBrains</td>\n",
       "      <td>144</td>\n",
       "      <td>4.3</td>\n",
       "      <td>173</td>\n",
       "      <td>1.2</td>\n",
       "    </tr>\n",
       "    <tr>\n",
       "      <th>0</th>\n",
       "      <td>Skillbox</td>\n",
       "      <td>407</td>\n",
       "      <td>4.6</td>\n",
       "      <td>159</td>\n",
       "      <td>0.4</td>\n",
       "    </tr>\n",
       "    <tr>\n",
       "      <th>4</th>\n",
       "      <td>Нетология</td>\n",
       "      <td>143</td>\n",
       "      <td>4.8</td>\n",
       "      <td>76</td>\n",
       "      <td>0.5</td>\n",
       "    </tr>\n",
       "    <tr>\n",
       "      <th>7</th>\n",
       "      <td>Контур.Школа</td>\n",
       "      <td>108</td>\n",
       "      <td>4.5</td>\n",
       "      <td>60</td>\n",
       "      <td>0.6</td>\n",
       "    </tr>\n",
       "    <tr>\n",
       "      <th>11</th>\n",
       "      <td>Irs Academy</td>\n",
       "      <td>60</td>\n",
       "      <td>4.3</td>\n",
       "      <td>49</td>\n",
       "      <td>0.8</td>\n",
       "    </tr>\n",
       "    <tr>\n",
       "      <th>8</th>\n",
       "      <td>Skyford</td>\n",
       "      <td>91</td>\n",
       "      <td>4.3</td>\n",
       "      <td>27</td>\n",
       "      <td>0.3</td>\n",
       "    </tr>\n",
       "    <tr>\n",
       "      <th>2</th>\n",
       "      <td>Специалист.ру</td>\n",
       "      <td>218</td>\n",
       "      <td>4.4</td>\n",
       "      <td>24</td>\n",
       "      <td>0.1</td>\n",
       "    </tr>\n",
       "    <tr>\n",
       "      <th>10</th>\n",
       "      <td>Моск. Бизнес Академия</td>\n",
       "      <td>66</td>\n",
       "      <td>4.8</td>\n",
       "      <td>24</td>\n",
       "      <td>0.4</td>\n",
       "    </tr>\n",
       "    <tr>\n",
       "      <th>1</th>\n",
       "      <td>Специалист.ру</td>\n",
       "      <td>218</td>\n",
       "      <td>4.3</td>\n",
       "      <td>23</td>\n",
       "      <td>0.1</td>\n",
       "    </tr>\n",
       "    <tr>\n",
       "      <th>6</th>\n",
       "      <td>Инфоурок</td>\n",
       "      <td>114</td>\n",
       "      <td>4.3</td>\n",
       "      <td>13</td>\n",
       "      <td>0.1</td>\n",
       "    </tr>\n",
       "    <tr>\n",
       "      <th>5</th>\n",
       "      <td>Моск.институт проф.обр</td>\n",
       "      <td>122</td>\n",
       "      <td>4.3</td>\n",
       "      <td>8</td>\n",
       "      <td>0.1</td>\n",
       "    </tr>\n",
       "    <tr>\n",
       "      <th>9</th>\n",
       "      <td>Моск.инст.техн. и упр.</td>\n",
       "      <td>70</td>\n",
       "      <td>4.3</td>\n",
       "      <td>7</td>\n",
       "      <td>0.1</td>\n",
       "    </tr>\n",
       "  </tbody>\n",
       "</table>\n",
       "</div>"
      ],
      "text/plain": [
       "                    school  counts  rating  school_reviews  ratio\n",
       "13            SkillFactory      48     4.8             238    5.0\n",
       "12            SkillFactory      48     4.5             229    4.8\n",
       "14        Яндекс Практикум      46     4.7             197    4.3\n",
       "3               GeekBrains     144     4.3             173    1.2\n",
       "0                 Skillbox     407     4.6             159    0.4\n",
       "4                Нетология     143     4.8              76    0.5\n",
       "7             Контур.Школа     108     4.5              60    0.6\n",
       "11             Irs Academy      60     4.3              49    0.8\n",
       "8                  Skyford      91     4.3              27    0.3\n",
       "2            Специалист.ру     218     4.4              24    0.1\n",
       "10   Моск. Бизнес Академия      66     4.8              24    0.4\n",
       "1            Специалист.ру     218     4.3              23    0.1\n",
       "6                 Инфоурок     114     4.3              13    0.1\n",
       "5   Моск.институт проф.обр     122     4.3               8    0.1\n",
       "9   Моск.инст.техн. и упр.      70     4.3               7    0.1"
      ]
     },
     "execution_count": 32,
     "metadata": {},
     "output_type": "execute_result"
    }
   ],
   "source": [
    "counts.sort_values(['school_reviews', 'counts'], ascending=False)"
   ]
  },
  {
   "cell_type": "markdown",
   "metadata": {
    "id": "aS2gldUAOmRu"
   },
   "source": [
    "Сортировка по коэффициенту \"ratio\""
   ]
  },
  {
   "cell_type": "code",
   "execution_count": 33,
   "metadata": {
    "colab": {
     "base_uri": "https://localhost:8080/",
     "height": 457
    },
    "id": "WRgUGdghOmRu",
    "outputId": "a742f14b-4562-405c-cb53-96ff8528ac35"
   },
   "outputs": [
    {
     "data": {
      "text/html": [
       "<div>\n",
       "<style scoped>\n",
       "    .dataframe tbody tr th:only-of-type {\n",
       "        vertical-align: middle;\n",
       "    }\n",
       "\n",
       "    .dataframe tbody tr th {\n",
       "        vertical-align: top;\n",
       "    }\n",
       "\n",
       "    .dataframe thead th {\n",
       "        text-align: right;\n",
       "    }\n",
       "</style>\n",
       "<table border=\"1\" class=\"dataframe\">\n",
       "  <thead>\n",
       "    <tr style=\"text-align: right;\">\n",
       "      <th></th>\n",
       "      <th>school</th>\n",
       "      <th>counts</th>\n",
       "      <th>rating</th>\n",
       "      <th>school_reviews</th>\n",
       "      <th>ratio</th>\n",
       "    </tr>\n",
       "  </thead>\n",
       "  <tbody>\n",
       "    <tr>\n",
       "      <th>13</th>\n",
       "      <td>SkillFactory</td>\n",
       "      <td>48</td>\n",
       "      <td>4.8</td>\n",
       "      <td>238</td>\n",
       "      <td>5.0</td>\n",
       "    </tr>\n",
       "    <tr>\n",
       "      <th>12</th>\n",
       "      <td>SkillFactory</td>\n",
       "      <td>48</td>\n",
       "      <td>4.5</td>\n",
       "      <td>229</td>\n",
       "      <td>4.8</td>\n",
       "    </tr>\n",
       "    <tr>\n",
       "      <th>14</th>\n",
       "      <td>Яндекс Практикум</td>\n",
       "      <td>46</td>\n",
       "      <td>4.7</td>\n",
       "      <td>197</td>\n",
       "      <td>4.3</td>\n",
       "    </tr>\n",
       "    <tr>\n",
       "      <th>3</th>\n",
       "      <td>GeekBrains</td>\n",
       "      <td>144</td>\n",
       "      <td>4.3</td>\n",
       "      <td>173</td>\n",
       "      <td>1.2</td>\n",
       "    </tr>\n",
       "    <tr>\n",
       "      <th>11</th>\n",
       "      <td>Irs Academy</td>\n",
       "      <td>60</td>\n",
       "      <td>4.3</td>\n",
       "      <td>49</td>\n",
       "      <td>0.8</td>\n",
       "    </tr>\n",
       "    <tr>\n",
       "      <th>7</th>\n",
       "      <td>Контур.Школа</td>\n",
       "      <td>108</td>\n",
       "      <td>4.5</td>\n",
       "      <td>60</td>\n",
       "      <td>0.6</td>\n",
       "    </tr>\n",
       "    <tr>\n",
       "      <th>4</th>\n",
       "      <td>Нетология</td>\n",
       "      <td>143</td>\n",
       "      <td>4.8</td>\n",
       "      <td>76</td>\n",
       "      <td>0.5</td>\n",
       "    </tr>\n",
       "    <tr>\n",
       "      <th>10</th>\n",
       "      <td>Моск. Бизнес Академия</td>\n",
       "      <td>66</td>\n",
       "      <td>4.8</td>\n",
       "      <td>24</td>\n",
       "      <td>0.4</td>\n",
       "    </tr>\n",
       "    <tr>\n",
       "      <th>0</th>\n",
       "      <td>Skillbox</td>\n",
       "      <td>407</td>\n",
       "      <td>4.6</td>\n",
       "      <td>159</td>\n",
       "      <td>0.4</td>\n",
       "    </tr>\n",
       "    <tr>\n",
       "      <th>8</th>\n",
       "      <td>Skyford</td>\n",
       "      <td>91</td>\n",
       "      <td>4.3</td>\n",
       "      <td>27</td>\n",
       "      <td>0.3</td>\n",
       "    </tr>\n",
       "    <tr>\n",
       "      <th>2</th>\n",
       "      <td>Специалист.ру</td>\n",
       "      <td>218</td>\n",
       "      <td>4.4</td>\n",
       "      <td>24</td>\n",
       "      <td>0.1</td>\n",
       "    </tr>\n",
       "    <tr>\n",
       "      <th>1</th>\n",
       "      <td>Специалист.ру</td>\n",
       "      <td>218</td>\n",
       "      <td>4.3</td>\n",
       "      <td>23</td>\n",
       "      <td>0.1</td>\n",
       "    </tr>\n",
       "    <tr>\n",
       "      <th>5</th>\n",
       "      <td>Моск.институт проф.обр</td>\n",
       "      <td>122</td>\n",
       "      <td>4.3</td>\n",
       "      <td>8</td>\n",
       "      <td>0.1</td>\n",
       "    </tr>\n",
       "    <tr>\n",
       "      <th>6</th>\n",
       "      <td>Инфоурок</td>\n",
       "      <td>114</td>\n",
       "      <td>4.3</td>\n",
       "      <td>13</td>\n",
       "      <td>0.1</td>\n",
       "    </tr>\n",
       "    <tr>\n",
       "      <th>9</th>\n",
       "      <td>Моск.инст.техн. и упр.</td>\n",
       "      <td>70</td>\n",
       "      <td>4.3</td>\n",
       "      <td>7</td>\n",
       "      <td>0.1</td>\n",
       "    </tr>\n",
       "  </tbody>\n",
       "</table>\n",
       "</div>"
      ],
      "text/plain": [
       "                    school  counts  rating  school_reviews  ratio\n",
       "13            SkillFactory      48     4.8             238    5.0\n",
       "12            SkillFactory      48     4.5             229    4.8\n",
       "14        Яндекс Практикум      46     4.7             197    4.3\n",
       "3               GeekBrains     144     4.3             173    1.2\n",
       "11             Irs Academy      60     4.3              49    0.8\n",
       "7             Контур.Школа     108     4.5              60    0.6\n",
       "4                Нетология     143     4.8              76    0.5\n",
       "10   Моск. Бизнес Академия      66     4.8              24    0.4\n",
       "0                 Skillbox     407     4.6             159    0.4\n",
       "8                  Skyford      91     4.3              27    0.3\n",
       "2            Специалист.ру     218     4.4              24    0.1\n",
       "1            Специалист.ру     218     4.3              23    0.1\n",
       "5   Моск.институт проф.обр     122     4.3               8    0.1\n",
       "6                 Инфоурок     114     4.3              13    0.1\n",
       "9   Моск.инст.техн. и упр.      70     4.3               7    0.1"
      ]
     },
     "execution_count": 33,
     "metadata": {},
     "output_type": "execute_result"
    }
   ],
   "source": [
    "counts.sort_values(['ratio', 'rating'], ascending=False)"
   ]
  },
  {
   "cell_type": "markdown",
   "metadata": {
    "id": "r9rXE8SyOmRu"
   },
   "source": [
    "#### Вот эти компании - основные игроки на рынке онлайн курсов.  На них будем ориентироваться."
   ]
  },
  {
   "cell_type": "code",
   "execution_count": 34,
   "metadata": {
    "id": "oz-EYf7uOmRv"
   },
   "outputs": [],
   "source": [
    "dfs = df[df.school.isin(counts.school)]"
   ]
  },
  {
   "cell_type": "code",
   "execution_count": 35,
   "metadata": {
    "colab": {
     "base_uri": "https://localhost:8080/",
     "height": 467
    },
    "id": "mJXg5gOWOmRv",
    "outputId": "cedde9d1-5870-48dc-cb9b-009e42dc221f"
   },
   "outputs": [
    {
     "data": {
      "image/png": "[encoded data removed]",
      "text/plain": [
       "<Figure size 1152x504 with 1 Axes>"
      ]
     },
     "metadata": {
      "needs_background": "light"
     },
     "output_type": "display_data"
    }
   ],
   "source": [
    "def show_boxplot_by_category(data):\n",
    "    fig, ax = plt.subplots(figsize=(16, 7))\n",
    "    sns.boxplot(y='category', x='price', data=data, ax=ax)\n",
    "    plt.title('Распределение стоимости курсов по категориям')\n",
    "    plt.xlabel('Стоимость курса')\n",
    "    plt.ylabel('Категория')\n",
    "    plt.grid(axis='x')\n",
    "    plt.show()\n",
    "    \n",
    "show_boxplot_by_category(dfs)    "
   ]
  },
  {
   "cell_type": "markdown",
   "metadata": {
    "id": "pGYTLx9oOmRv"
   },
   "source": [
    "Для крупных игроков картина изменилась. Самые дорогие курсы стали по программированию и аналитике, т.е. самых ИТ-шных специальностей. Изменилась стоимость курсов в разных категориях. Проверим это статистикой:"
   ]
  },
  {
   "cell_type": "code",
   "execution_count": 36,
   "metadata": {
    "colab": {
     "base_uri": "https://localhost:8080/"
    },
    "id": "IndfIIkBOmRv",
    "outputId": "e90d3549-baf9-4925-e76b-c10098f16ad9"
   },
   "outputs": [
    {
     "name": "stdout",
     "output_type": "stream",
     "text": [
      "p-value = 0.0018\n",
      "Отвергаем нулевую гипотезу\n",
      "\n"
     ]
    }
   ],
   "source": [
    "# categories1 = ['Программирование', 'Аналитика', 'Дизайн', 'Бизнес и финансы']\n",
    "results = stats.kruskal(*[dfs[dfs['category'] == category]['price'].dropna() for category in categories1])\n",
    "check_result(results.pvalue)"
   ]
  },
  {
   "cell_type": "code",
   "execution_count": 37,
   "metadata": {
    "colab": {
     "base_uri": "https://localhost:8080/"
    },
    "id": "50IMtuzNOmRv",
    "outputId": "3c86a692-d8b8-4c09-8c85-016000d24dde"
   },
   "outputs": [
    {
     "name": "stdout",
     "output_type": "stream",
     "text": [
      "p-value = 0.0096\n",
      "Отвергаем нулевую гипотезу\n",
      "\n"
     ]
    }
   ],
   "source": [
    "# categories2 = ['Маркетинг', 'Управление']\n",
    "results = stats.mannwhitneyu(*[dfs[dfs['category'] == category]['price'].dropna() for category in categories2])\n",
    "check_result(results.pvalue)"
   ]
  },
  {
   "cell_type": "code",
   "execution_count": 38,
   "metadata": {
    "colab": {
     "base_uri": "https://localhost:8080/"
    },
    "id": "84BAPopUOmRw",
    "outputId": "4155397d-eb9a-4b71-c780-6257e91a2ec1"
   },
   "outputs": [
    {
     "name": "stdout",
     "output_type": "stream",
     "text": [
      "p-value = 0.4122\n",
      "Принимаем нулевую гипотезу\n",
      "\n"
     ]
    }
   ],
   "source": [
    "categories = ['Программирование', 'Аналитика']\n",
    "results = stats.mannwhitneyu(*[dfs[dfs['category'] == category]['price'].dropna() for category in categories])\n",
    "check_result(results.pvalue)"
   ]
  },
  {
   "cell_type": "code",
   "execution_count": 39,
   "metadata": {
    "colab": {
     "base_uri": "https://localhost:8080/"
    },
    "id": "SSGnsEtOOmRw",
    "outputId": "5a123145-d2c6-487b-a9d6-ffc033dbc7f6"
   },
   "outputs": [
    {
     "name": "stdout",
     "output_type": "stream",
     "text": [
      "p-value = 0.1035\n",
      "Принимаем нулевую гипотезу\n",
      "\n"
     ]
    }
   ],
   "source": [
    "categories = ['Дизайн', 'Бизнес и финансы']\n",
    "results = stats.mannwhitneyu(*[dfs[dfs['category'] == category]['price'].dropna() for category in categories])\n",
    "check_result(results.pvalue)"
   ]
  },
  {
   "cell_type": "markdown",
   "metadata": {
    "id": "SKIOGBtsOmRw"
   },
   "source": [
    "На результаты проверки статистических гипотез можно посмотреть \"глазами\", чтобы увидеть примерное равенство / отличия средних и медиан в сравниваемых категориях."
   ]
  },
  {
   "cell_type": "code",
   "execution_count": 40,
   "metadata": {
    "colab": {
     "base_uri": "https://localhost:8080/",
     "height": 300
    },
    "id": "4UsTRvtQOmRw",
    "outputId": "34b7d568-6a01-4b77-c76a-6d0d18f6897b"
   },
   "outputs": [
    {
     "data": {
      "text/html": [
       "<div>\n",
       "<style scoped>\n",
       "    .dataframe tbody tr th:only-of-type {\n",
       "        vertical-align: middle;\n",
       "    }\n",
       "\n",
       "    .dataframe tbody tr th {\n",
       "        vertical-align: top;\n",
       "    }\n",
       "\n",
       "    .dataframe thead tr th {\n",
       "        text-align: left;\n",
       "    }\n",
       "</style>\n",
       "<table border=\"1\" class=\"dataframe\">\n",
       "  <thead>\n",
       "    <tr>\n",
       "      <th></th>\n",
       "      <th>category</th>\n",
       "      <th colspan=\"2\" halign=\"left\">price</th>\n",
       "    </tr>\n",
       "    <tr>\n",
       "      <th></th>\n",
       "      <th></th>\n",
       "      <th>median</th>\n",
       "      <th>mean</th>\n",
       "    </tr>\n",
       "  </thead>\n",
       "  <tbody>\n",
       "    <tr>\n",
       "      <th>0</th>\n",
       "      <td>Аналитика</td>\n",
       "      <td>70000.0</td>\n",
       "      <td>83996.0</td>\n",
       "    </tr>\n",
       "    <tr>\n",
       "      <th>1</th>\n",
       "      <td>Бизнес и финансы</td>\n",
       "      <td>38000.0</td>\n",
       "      <td>49298.0</td>\n",
       "    </tr>\n",
       "    <tr>\n",
       "      <th>2</th>\n",
       "      <td>Дизайн</td>\n",
       "      <td>54000.0</td>\n",
       "      <td>72343.0</td>\n",
       "    </tr>\n",
       "    <tr>\n",
       "      <th>3</th>\n",
       "      <td>Иностранные языки</td>\n",
       "      <td>3600.0</td>\n",
       "      <td>10150.0</td>\n",
       "    </tr>\n",
       "    <tr>\n",
       "      <th>4</th>\n",
       "      <td>Маркетинг</td>\n",
       "      <td>42539.0</td>\n",
       "      <td>58438.0</td>\n",
       "    </tr>\n",
       "    <tr>\n",
       "      <th>5</th>\n",
       "      <td>Программирование</td>\n",
       "      <td>77198.0</td>\n",
       "      <td>83951.0</td>\n",
       "    </tr>\n",
       "    <tr>\n",
       "      <th>6</th>\n",
       "      <td>Управление</td>\n",
       "      <td>39000.0</td>\n",
       "      <td>61187.0</td>\n",
       "    </tr>\n",
       "  </tbody>\n",
       "</table>\n",
       "</div>"
      ],
      "text/plain": [
       "            category    price         \n",
       "                       median     mean\n",
       "0          Аналитика  70000.0  83996.0\n",
       "1   Бизнес и финансы  38000.0  49298.0\n",
       "2             Дизайн  54000.0  72343.0\n",
       "3  Иностранные языки   3600.0  10150.0\n",
       "4          Маркетинг  42539.0  58438.0\n",
       "5   Программирование  77198.0  83951.0\n",
       "6         Управление  39000.0  61187.0"
      ]
     },
     "execution_count": 40,
     "metadata": {},
     "output_type": "execute_result"
    }
   ],
   "source": [
    "dfs.groupby('category', as_index=False).aggregate({'price': ['median', 'mean']}).round()"
   ]
  },
  {
   "cell_type": "code",
   "execution_count": 41,
   "metadata": {
    "colab": {
     "base_uri": "https://localhost:8080/",
     "height": 630
    },
    "id": "vjfzy9a3OmRx",
    "outputId": "46c8410f-50c3-48f8-bc77-cd28efb5cf49"
   },
   "outputs": [
    {
     "data": {
      "image/png": "[encoded data removed]",
      "text/plain": [
       "<Figure size 1152x720 with 1 Axes>"
      ]
     },
     "metadata": {
      "needs_background": "light"
     },
     "output_type": "display_data"
    }
   ],
   "source": [
    "def show_boxplot_by_school(data):\n",
    "    fig, ax = plt.subplots(figsize=(16,10))\n",
    "    sns.boxplot(y='school', x='price', data=data, order=counts.school.values, ax=ax)\n",
    "    plt.title('Распределение стоимости курсов по авторам')\n",
    "    plt.xlabel('Стоимость курса')\n",
    "    plt.ylabel('Автор')\n",
    "    plt.grid(axis='x')\n",
    "    plt.show()\n",
    "    \n",
    "show_boxplot_by_school(dfs)    "
   ]
  },
  {
   "cell_type": "markdown",
   "metadata": {
    "id": "POSFEG0ZOmRx"
   },
   "source": [
    "Посмотрим на стоимости курсов по категориям у разных авторов"
   ]
  },
  {
   "cell_type": "code",
   "execution_count": 42,
   "metadata": {
    "colab": {
     "base_uri": "https://localhost:8080/",
     "height": 1000
    },
    "id": "_xZRDwRiOmRx",
    "outputId": "c874ec13-f67e-4796-f6cb-7daba03d9025",
    "scrolled": false
   },
   "outputs": [
    {
     "name": "stdout",
     "output_type": "stream",
     "text": [
      "Категория курсов: Программирование\n"
     ]
    },
    {
     "data": {
      "image/png": "[encoded data removed]",
      "text/plain": [
       "<Figure size 1152x720 with 1 Axes>"
      ]
     },
     "metadata": {
      "needs_background": "light"
     },
     "output_type": "display_data"
    },
    {
     "name": "stdout",
     "output_type": "stream",
     "text": [
      "Категория курсов: Маркетинг\n"
     ]
    },
    {
     "data": {
      "image/png": "[encoded data removed]",
      "text/plain": [
       "<Figure size 1152x720 with 1 Axes>"
      ]
     },
     "metadata": {
      "needs_background": "light"
     },
     "output_type": "display_data"
    },
    {
     "name": "stdout",
     "output_type": "stream",
     "text": [
      "Категория курсов: Управление\n"
     ]
    },
    {
     "data": {
      "image/png": "[encoded data removed]",
      "text/plain": [
       "<Figure size 1152x720 with 1 Axes>"
      ]
     },
     "metadata": {
      "needs_background": "light"
     },
     "output_type": "display_data"
    },
    {
     "name": "stdout",
     "output_type": "stream",
     "text": [
      "Категория курсов: Аналитика\n"
     ]
    },
    {
     "data": {
      "image/png": "[encoded data removed]",
      "text/plain": [
       "<Figure size 1152x720 with 1 Axes>"
      ]
     },
     "metadata": {
      "needs_background": "light"
     },
     "output_type": "display_data"
    },
    {
     "name": "stdout",
     "output_type": "stream",
     "text": [
      "Категория курсов: Дизайн\n"
     ]
    },
    {
     "data": {
      "image/png": "[encoded data removed]",
      "text/plain": [
       "<Figure size 1152x720 with 1 Axes>"
      ]
     },
     "metadata": {
      "needs_background": "light"
     },
     "output_type": "display_data"
    },
    {
     "name": "stdout",
     "output_type": "stream",
     "text": [
      "Категория курсов: Иностранные языки\n"
     ]
    },
    {
     "data": {
      "image/png": "[encoded data removed]",
      "text/plain": [
       "<Figure size 1152x720 with 1 Axes>"
      ]
     },
     "metadata": {
      "needs_background": "light"
     },
     "output_type": "display_data"
    },
    {
     "name": "stdout",
     "output_type": "stream",
     "text": [
      "Категория курсов: Бизнес и финансы\n"
     ]
    },
    {
     "data": {
      "image/png": "[encoded data removed]",
      "text/plain": [
       "<Figure size 1152x720 with 1 Axes>"
      ]
     },
     "metadata": {
      "needs_background": "light"
     },
     "output_type": "display_data"
    }
   ],
   "source": [
    "for category in dfs.category.unique():\n",
    "    print(f'Категория курсов: {category}')\n",
    "    show_boxplot_by_school(dfs[dfs.category == category])"
   ]
  },
  {
   "cell_type": "markdown",
   "metadata": {
    "id": "Ci3tcMVIOmRx"
   },
   "source": [
    "У разных авторов стоимость курсов в одной категории имеет большой ценовой разброс."
   ]
  },
  {
   "cell_type": "code",
   "execution_count": null,
   "metadata": {
    "id": "VdLTJqNoOmRx"
   },
   "outputs": [],
   "source": []
  }
 ],
 "metadata": {
  "colab": {
   "collapsed_sections": [
    "YOvCHq7qOmRr"
   ],
   "include_colab_link": true,
   "name": "Павлова_СВ_EDA_tutortop.ipynb",
   "provenance": []
  },
  "kernelspec": {
   "display_name": "Python 3",
   "language": "python",
   "name": "python3"
  },
  "language_info": {
   "codemirror_mode": {
    "name": "ipython",
    "version": 3
   },
   "file_extension": ".py",
   "mimetype": "text/x-python",
   "name": "python",
   "nbconvert_exporter": "python",
   "pygments_lexer": "ipython3",
   "version": "3.8.5"
  }
 },
 "nbformat": 4,
 "nbformat_minor": 1
}
