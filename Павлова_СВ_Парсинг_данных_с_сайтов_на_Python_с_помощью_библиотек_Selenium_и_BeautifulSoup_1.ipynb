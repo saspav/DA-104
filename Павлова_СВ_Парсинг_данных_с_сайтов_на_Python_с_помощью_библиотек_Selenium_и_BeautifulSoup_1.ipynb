{
  "cells": [
    {
      "cell_type": "markdown",
      "metadata": {
        "id": "view-in-github",
        "colab_type": "text"
      },
      "source": [
        "<a href=\"https://colab.research.google.com/github/saspav/DA-104/blob/main/%D0%9F%D0%B0%D0%B2%D0%BB%D0%BE%D0%B2%D0%B0_%D0%A1%D0%92_%D0%9F%D0%B0%D1%80%D1%81%D0%B8%D0%BD%D0%B3_%D0%B4%D0%B0%D0%BD%D0%BD%D1%8B%D1%85_%D1%81_%D1%81%D0%B0%D0%B9%D1%82%D0%BE%D0%B2_%D0%BD%D0%B0_Python_%D1%81_%D0%BF%D0%BE%D0%BC%D0%BE%D1%89%D1%8C%D1%8E_%D0%B1%D0%B8%D0%B1%D0%BB%D0%B8%D0%BE%D1%82%D0%B5%D0%BA_Selenium_%D0%B8_BeautifulSoup_1.ipynb\" target=\"_parent\"><img src=\"https://colab.research.google.com/assets/colab-badge.svg\" alt=\"Open In Colab\"/></a>"
      ]
    },
    {
      "cell_type": "markdown",
      "metadata": {
        "id": "6JTr57BPdOpA"
      },
      "source": [
        "# Задание 1\n",
        "\n",
        "Написать код, который выполнит ввод слова \"Lenovo\" в поисковую строку сайта  nbcomputers.ru (https://www.nbcomputers.ru/) и нажмет кнопку \"Найти\"\n",
        "<br>\n",
        "<br>\n",
        "![image.png](data:image/png;base64,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)\n",
        "\n",
        "*(подсказка: изучите внимательно документацию и метод send_keys)*"
      ]
    },
    {
      "cell_type": "code",
      "execution_count": 1,
      "metadata": {
        "colab": {
          "base_uri": "https://localhost:8080/"
        },
        "id": "YzfTb__0dw7u",
        "outputId": "5db65410-ea16-4c5e-c4b0-cd2b47658d52"
      },
      "outputs": [
        {
          "output_type": "stream",
          "name": "stdout",
          "text": [
            "Looking in indexes: https://pypi.org/simple, https://us-python.pkg.dev/colab-wheels/public/simple/\n",
            "Requirement already satisfied: selenium in /usr/local/lib/python3.7/dist-packages (4.4.3)\n",
            "Requirement already satisfied: trio-websocket~=0.9 in /usr/local/lib/python3.7/dist-packages (from selenium) (0.9.2)\n",
            "Requirement already satisfied: certifi>=2021.10.8 in /usr/local/lib/python3.7/dist-packages (from selenium) (2022.6.15)\n",
            "Requirement already satisfied: trio~=0.17 in /usr/local/lib/python3.7/dist-packages (from selenium) (0.21.0)\n",
            "Requirement already satisfied: urllib3[socks]~=1.26 in /usr/local/lib/python3.7/dist-packages (from selenium) (1.26.12)\n",
            "Requirement already satisfied: outcome in /usr/local/lib/python3.7/dist-packages (from trio~=0.17->selenium) (1.2.0)\n",
            "Requirement already satisfied: attrs>=19.2.0 in /usr/local/lib/python3.7/dist-packages (from trio~=0.17->selenium) (22.1.0)\n",
            "Requirement already satisfied: sortedcontainers in /usr/local/lib/python3.7/dist-packages (from trio~=0.17->selenium) (2.4.0)\n",
            "Requirement already satisfied: idna in /usr/local/lib/python3.7/dist-packages (from trio~=0.17->selenium) (2.10)\n",
            "Requirement already satisfied: async-generator>=1.9 in /usr/local/lib/python3.7/dist-packages (from trio~=0.17->selenium) (1.10)\n",
            "Requirement already satisfied: sniffio in /usr/local/lib/python3.7/dist-packages (from trio~=0.17->selenium) (1.3.0)\n",
            "Requirement already satisfied: wsproto>=0.14 in /usr/local/lib/python3.7/dist-packages (from trio-websocket~=0.9->selenium) (1.2.0)\n",
            "Requirement already satisfied: PySocks!=1.5.7,<2.0,>=1.5.6 in /usr/local/lib/python3.7/dist-packages (from urllib3[socks]~=1.26->selenium) (1.7.1)\n",
            "Requirement already satisfied: h11<1,>=0.9.0 in /usr/local/lib/python3.7/dist-packages (from wsproto>=0.14->trio-websocket~=0.9->selenium) (0.13.0)\n",
            "Requirement already satisfied: typing-extensions in /usr/local/lib/python3.7/dist-packages (from h11<1,>=0.9.0->wsproto>=0.14->trio-websocket~=0.9->selenium) (4.1.1)\n",
            "Hit:1 http://ppa.launchpad.net/c2d4u.team/c2d4u4.0+/ubuntu bionic InRelease\n",
            "Hit:2 http://archive.ubuntu.com/ubuntu bionic InRelease\n",
            "Hit:3 http://archive.ubuntu.com/ubuntu bionic-updates InRelease\n",
            "Hit:4 http://security.ubuntu.com/ubuntu bionic-security InRelease\n",
            "Hit:5 https://cloud.r-project.org/bin/linux/ubuntu bionic-cran40/ InRelease\n",
            "Hit:6 http://ppa.launchpad.net/cran/libgit2/ubuntu bionic InRelease\n",
            "Hit:7 http://archive.ubuntu.com/ubuntu bionic-backports InRelease\n",
            "Hit:8 http://ppa.launchpad.net/deadsnakes/ppa/ubuntu bionic InRelease\n",
            "Hit:9 http://ppa.launchpad.net/graphics-drivers/ppa/ubuntu bionic InRelease\n",
            "Ign:10 https://developer.download.nvidia.com/compute/machine-learning/repos/ubuntu1804/x86_64  InRelease\n",
            "Hit:11 https://developer.download.nvidia.com/compute/cuda/repos/ubuntu1804/x86_64  InRelease\n",
            "Hit:12 https://developer.download.nvidia.com/compute/machine-learning/repos/ubuntu1804/x86_64  Release\n",
            "Reading package lists... Done\n",
            "Reading package lists... Done\n",
            "Building dependency tree       \n",
            "Reading state information... Done\n",
            "chromium-chromedriver is already the newest version (105.0.5195.102-0ubuntu0.18.04.1).\n",
            "The following package was automatically installed and is no longer required:\n",
            "  libnvidia-common-460\n",
            "Use 'apt autoremove' to remove it.\n",
            "0 upgraded, 0 newly installed, 0 to remove and 38 not upgraded.\n",
            "cp: '/usr/lib/chromium-browser/chromedriver' and '/usr/bin/chromedriver' are the same file\n"
          ]
        }
      ],
      "source": [
        "__import__('warnings').filterwarnings(\"ignore\")\n",
        "\n",
        "!pip install selenium\n",
        "!apt-get update # to update ubuntu to correctly run apt install\n",
        "!apt install chromium-chromedriver\n",
        "!cp /usr/lib/chromium-browser/chromedriver /usr/bin\n",
        "\n",
        "import sys\n",
        "\n",
        "sys.path.insert(0,'/usr/lib/chromium-browser/chromedriver')"
      ]
    },
    {
      "cell_type": "code",
      "execution_count": 2,
      "metadata": {
        "id": "2QAcbIQldw7w"
      },
      "outputs": [],
      "source": [
        "from time import sleep\n",
        "from selenium import webdriver\n",
        "from selenium.webdriver.common.by import By\n",
        "from selenium.webdriver.common.keys import Keys\n",
        "\n",
        "\n",
        "# Установка параметров для headless браузера \n",
        "options = webdriver.ChromeOptions()\n",
        "options.add_argument('--headless')\n",
        "options.add_argument('--no-sandbox')\n",
        "options.add_argument('--disable-dev-shm-usage')\n",
        "options.add_argument(\"--window-size=1920,1080\")\n",
        "\n",
        "# Инициализация сессии браузера \n",
        "# browser = webdriver.Chrome(executable_path='/usr/bin/chromedriver', options=options)\n",
        "# выдает предупреждение: DeprecationWarning: executable_path has been deprecated\n",
        "browser = webdriver.Chrome(options=options)\n",
        "\n",
        "# В новой версии сайта нет кнопки \"Найти\"\n",
        "link = \"https://www.nbcomputers.ru/\"\n",
        "browser.get(link)\n",
        "html_source = browser.page_source\n",
        "while \"ant-input-sm\" not in html_source:\n",
        "    sleep(1)\n",
        "browser.find_element(By.CLASS_NAME, \"ant-input-sm\").send_keys(\"Lenovo\" + Keys.RETURN)\n",
        "browser.quit()"
      ]
    },
    {
      "cell_type": "markdown",
      "metadata": {
        "id": "ELBYRZWvdP4B"
      },
      "source": [
        "# Задание 2\n",
        "\n",
        "Соберите информацию с сайта nbcomputers.ru (https://1000kem.ru/catalog/vse_dlya_doma_1/) о домашней утвари данного интернет-магазина.\n",
        "<br>\n",
        "Данные, которые необходимы:\n",
        "* Название товара\n",
        "* Цена\n",
        "\n",
        "Так же данные должны быть отсортированы по уменьшению цены.\n",
        "<br>\n",
        "Результат необходимо записать в CSV файл.\n",
        "<br>\n",
        "*(совет: обязательно делайте различные временные промежутки между прокликами)*"
      ]
    },
    {
      "cell_type": "code",
      "execution_count": 3,
      "metadata": {
        "colab": {
          "base_uri": "https://localhost:8080/"
        },
        "id": "uy6ialyvdw7y",
        "outputId": "c1b08717-01af-4ccd-941c-6d131a4e5203"
      },
      "outputs": [
        {
          "output_type": "stream",
          "name": "stdout",
          "text": [
            "Страница: 1\n",
            "Страница: 2\n",
            "Страница: 3\n",
            "Страница: 4\n",
            "Страница: 5\n",
            "Страница: 6\n",
            "Страница: 7\n",
            "Страница: 8\n",
            "Страница: 9\n",
            "Страница: 10\n",
            "Страница: 11\n",
            "Страница: 12\n",
            "Страница: 13\n",
            "Страница: 14\n",
            "Страница: 15\n",
            "Страница: 16\n",
            "Страница: 17\n",
            "Страница: 18\n",
            "Страница: 19\n",
            "Страница: 20\n",
            "Страница: 21\n",
            "Страница: 22\n",
            "Страница: 23\n",
            "Страница: 24\n",
            "Страница: 25\n",
            "Страница: 26\n"
          ]
        }
      ],
      "source": [
        "import pandas as pd\n",
        "from time import sleep\n",
        "from random import random\n",
        "from selenium import webdriver\n",
        "from selenium.webdriver.common.by import By\n",
        "from selenium.webdriver.support.ui import WebDriverWait\n",
        "from selenium.webdriver.support.expected_conditions import \\\n",
        "    presence_of_all_elements_located as elem_loc\n",
        "\n",
        "\n",
        "def wait_load_page(seconds=1):\n",
        "    driver_wait.until(elem_loc((By.CLASS_NAME, \"catalog_section_description\")))\n",
        "    sleep(seconds + seconds * random())\n",
        "\n",
        "\n",
        "url = \"https://1000kem.ru/catalog/vse_dlya_doma_1/?alfaction=coutput&alfavalue=80\"\n",
        "\n",
        "# Установка параметров для headless браузера \n",
        "options = webdriver.ChromeOptions()\n",
        "options.add_argument('--headless')\n",
        "options.add_argument('--no-sandbox')\n",
        "options.add_argument('--disable-dev-shm-usage')\n",
        "options.add_argument(\"--window-size=1920,1080\")\n",
        "\n",
        "# Инициализация сессии браузера \n",
        "browser = webdriver.Chrome(options=options)\n",
        "\n",
        "browser.get(url)\n",
        "driver_wait = WebDriverWait(browser, 13)\n",
        "wait_load_page()\n",
        "# Установка сортировки по убыванию\n",
        "browser.find_elements(By.CSS_SELECTOR, \".asc.icon.multimage_icons\")[-1].click()\n",
        "wait_load_page()\n",
        "\n",
        "df = pd.DataFrame(columns=['Название товара', 'Цена'])\n",
        "while True:\n",
        "    link = browser.current_url\n",
        "    page = link.split('=')[-1] if '=' in link else 1\n",
        "    print(f'Страница: {page}')\n",
        "\n",
        "    # получение списка товаров\n",
        "    items = browser.find_elements(By.CLASS_NAME, \"catalog-item_inner\")\n",
        "    for item in items:\n",
        "        # извлечение наименования и цены\n",
        "        row = item.text.split('\\n')\n",
        "        name = row[0] if row else ''\n",
        "        price = row[1] if len(row) > 1 else ''\n",
        "        price = int(price.replace('руб.', '').replace(' ', ''))\n",
        "        df.loc[len(df)] = [name, price]\n",
        "\n",
        "    # если существует кнопка \"перейти на след страницу\"\n",
        "    if browser.find_elements(By.CLASS_NAME, \"modern-page-next\"):\n",
        "        browser.find_element(By.CLASS_NAME, \"modern-page-next\").click()\n",
        "        wait_load_page(2)\n",
        "    else:\n",
        "        break\n",
        "\n",
        "    # сохраняем ДФ после парсинга каждой страницы\n",
        "    df.sort_values('Цена', ascending=False, inplace=True)\n",
        "    df.to_csv('домашняя_утварь.csv', index=False)"
      ]
    }
  ],
  "metadata": {
    "colab": {
      "collapsed_sections": [],
      "name": "Павлова_СВ_Парсинг_данных_с_сайтов_на_Python_с_помощью_библиотек_Selenium_и_BeautifulSoup_1.ipynb",
      "provenance": []
    },
    "kernelspec": {
      "display_name": "Python 3",
      "language": "python",
      "name": "python3"
    },
    "language_info": {
      "codemirror_mode": {
        "name": "ipython",
        "version": 3
      },
      "file_extension": ".py",
      "mimetype": "text/x-python",
      "name": "python",
      "nbconvert_exporter": "python",
      "pygments_lexer": "ipython3",
      "version": "3.8.5"
    }
  },
  "nbformat": 4,
  "nbformat_minor": 0
}